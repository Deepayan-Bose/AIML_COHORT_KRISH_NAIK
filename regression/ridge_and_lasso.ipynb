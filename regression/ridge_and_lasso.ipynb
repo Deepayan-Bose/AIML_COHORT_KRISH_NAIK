{
 "cells": [
  {
   "cell_type": "markdown",
   "id": "359d13b5",
   "metadata": {},
   "source": [
    "### Algerian Forest Fire Data"
   ]
  },
  {
   "cell_type": "markdown",
   "id": "37f5d4cb",
   "metadata": {
    "vscode": {
     "languageId": "plaintext"
    }
   },
   "source": [
    "The dataset includes 244 instances that regroup a data of two regions of Algeria, namely the Bejaia region located in the northeast of Algeria and the Sidi Bel-abbes region located in the northwest of Algeria.\n",
    "\n",
    "122 instances for each region.\n",
    "\n",
    "The period from June 2012 to September 2012.\n",
    "The dataset includes 11 attributes and 1 output attribute (class)\n",
    "The 244 instances have been classified into fire (138 classes) and not fire (106 classes) classes."
   ]
  },
  {
   "cell_type": "code",
   "execution_count": 507,
   "id": "97a318bc",
   "metadata": {},
   "outputs": [],
   "source": [
    "import pandas as pd\n",
    "import numpy as np\n",
    "import matplotlib.pyplot as plt\n",
    "import seaborn as sns\n",
    "%matplotlib inline"
   ]
  },
  {
   "cell_type": "code",
   "execution_count": 508,
   "id": "147eb4d0",
   "metadata": {},
   "outputs": [],
   "source": [
    "dataset = pd.read_csv(\"Algerian_forest_fires_dataset.csv\")"
   ]
  },
  {
   "cell_type": "code",
   "execution_count": 509,
   "id": "bd1f1bf2",
   "metadata": {},
   "outputs": [
    {
     "data": {
      "application/vnd.microsoft.datawrangler.viewer.v0+json": {
       "columns": [
        {
         "name": "index",
         "rawType": "int64",
         "type": "integer"
        },
        {
         "name": "day",
         "rawType": "object",
         "type": "string"
        },
        {
         "name": "month",
         "rawType": "object",
         "type": "string"
        },
        {
         "name": "year",
         "rawType": "object",
         "type": "string"
        },
        {
         "name": "Temperature",
         "rawType": "object",
         "type": "string"
        },
        {
         "name": " RH",
         "rawType": "object",
         "type": "string"
        },
        {
         "name": " Ws",
         "rawType": "object",
         "type": "string"
        },
        {
         "name": "Rain ",
         "rawType": "object",
         "type": "string"
        },
        {
         "name": "FFMC",
         "rawType": "object",
         "type": "string"
        },
        {
         "name": "DMC",
         "rawType": "object",
         "type": "string"
        },
        {
         "name": "DC",
         "rawType": "object",
         "type": "string"
        },
        {
         "name": "ISI",
         "rawType": "object",
         "type": "string"
        },
        {
         "name": "BUI",
         "rawType": "object",
         "type": "string"
        },
        {
         "name": "FWI",
         "rawType": "object",
         "type": "string"
        },
        {
         "name": "Classes  ",
         "rawType": "object",
         "type": "string"
        }
       ],
       "ref": "bc6c5720-ebcb-4098-bcc0-688ff86c2cdc",
       "rows": [
        [
         "0",
         "1",
         "6",
         "2012",
         "29",
         "57",
         "18",
         "0",
         "65.7",
         "3.4",
         "7.6",
         "1.3",
         "3.4",
         "0.5",
         "not fire   "
        ],
        [
         "1",
         "2",
         "6",
         "2012",
         "29",
         "61",
         "13",
         "1.3",
         "64.4",
         "4.1",
         "7.6",
         "1",
         "3.9",
         "0.4",
         "not fire   "
        ],
        [
         "2",
         "3",
         "6",
         "2012",
         "26",
         "82",
         "22",
         "13.1",
         "47.1",
         "2.5",
         "7.1",
         "0.3",
         "2.7",
         "0.1",
         "not fire   "
        ],
        [
         "3",
         "4",
         "6",
         "2012",
         "25",
         "89",
         "13",
         "2.5",
         "28.6",
         "1.3",
         "6.9",
         "0",
         "1.7",
         "0",
         "not fire   "
        ],
        [
         "4",
         "5",
         "6",
         "2012",
         "27",
         "77",
         "16",
         "0",
         "64.8",
         "3",
         "14.2",
         "1.2",
         "3.9",
         "0.5",
         "not fire   "
        ]
       ],
       "shape": {
        "columns": 14,
        "rows": 5
       }
      },
      "text/html": [
       "<div>\n",
       "<style scoped>\n",
       "    .dataframe tbody tr th:only-of-type {\n",
       "        vertical-align: middle;\n",
       "    }\n",
       "\n",
       "    .dataframe tbody tr th {\n",
       "        vertical-align: top;\n",
       "    }\n",
       "\n",
       "    .dataframe thead th {\n",
       "        text-align: right;\n",
       "    }\n",
       "</style>\n",
       "<table border=\"1\" class=\"dataframe\">\n",
       "  <thead>\n",
       "    <tr style=\"text-align: right;\">\n",
       "      <th></th>\n",
       "      <th>day</th>\n",
       "      <th>month</th>\n",
       "      <th>year</th>\n",
       "      <th>Temperature</th>\n",
       "      <th>RH</th>\n",
       "      <th>Ws</th>\n",
       "      <th>Rain</th>\n",
       "      <th>FFMC</th>\n",
       "      <th>DMC</th>\n",
       "      <th>DC</th>\n",
       "      <th>ISI</th>\n",
       "      <th>BUI</th>\n",
       "      <th>FWI</th>\n",
       "      <th>Classes</th>\n",
       "    </tr>\n",
       "  </thead>\n",
       "  <tbody>\n",
       "    <tr>\n",
       "      <th>0</th>\n",
       "      <td>1</td>\n",
       "      <td>6</td>\n",
       "      <td>2012</td>\n",
       "      <td>29</td>\n",
       "      <td>57</td>\n",
       "      <td>18</td>\n",
       "      <td>0</td>\n",
       "      <td>65.7</td>\n",
       "      <td>3.4</td>\n",
       "      <td>7.6</td>\n",
       "      <td>1.3</td>\n",
       "      <td>3.4</td>\n",
       "      <td>0.5</td>\n",
       "      <td>not fire</td>\n",
       "    </tr>\n",
       "    <tr>\n",
       "      <th>1</th>\n",
       "      <td>2</td>\n",
       "      <td>6</td>\n",
       "      <td>2012</td>\n",
       "      <td>29</td>\n",
       "      <td>61</td>\n",
       "      <td>13</td>\n",
       "      <td>1.3</td>\n",
       "      <td>64.4</td>\n",
       "      <td>4.1</td>\n",
       "      <td>7.6</td>\n",
       "      <td>1</td>\n",
       "      <td>3.9</td>\n",
       "      <td>0.4</td>\n",
       "      <td>not fire</td>\n",
       "    </tr>\n",
       "    <tr>\n",
       "      <th>2</th>\n",
       "      <td>3</td>\n",
       "      <td>6</td>\n",
       "      <td>2012</td>\n",
       "      <td>26</td>\n",
       "      <td>82</td>\n",
       "      <td>22</td>\n",
       "      <td>13.1</td>\n",
       "      <td>47.1</td>\n",
       "      <td>2.5</td>\n",
       "      <td>7.1</td>\n",
       "      <td>0.3</td>\n",
       "      <td>2.7</td>\n",
       "      <td>0.1</td>\n",
       "      <td>not fire</td>\n",
       "    </tr>\n",
       "    <tr>\n",
       "      <th>3</th>\n",
       "      <td>4</td>\n",
       "      <td>6</td>\n",
       "      <td>2012</td>\n",
       "      <td>25</td>\n",
       "      <td>89</td>\n",
       "      <td>13</td>\n",
       "      <td>2.5</td>\n",
       "      <td>28.6</td>\n",
       "      <td>1.3</td>\n",
       "      <td>6.9</td>\n",
       "      <td>0</td>\n",
       "      <td>1.7</td>\n",
       "      <td>0</td>\n",
       "      <td>not fire</td>\n",
       "    </tr>\n",
       "    <tr>\n",
       "      <th>4</th>\n",
       "      <td>5</td>\n",
       "      <td>6</td>\n",
       "      <td>2012</td>\n",
       "      <td>27</td>\n",
       "      <td>77</td>\n",
       "      <td>16</td>\n",
       "      <td>0</td>\n",
       "      <td>64.8</td>\n",
       "      <td>3</td>\n",
       "      <td>14.2</td>\n",
       "      <td>1.2</td>\n",
       "      <td>3.9</td>\n",
       "      <td>0.5</td>\n",
       "      <td>not fire</td>\n",
       "    </tr>\n",
       "  </tbody>\n",
       "</table>\n",
       "</div>"
      ],
      "text/plain": [
       "  day month  year Temperature  RH  Ws Rain   FFMC  DMC    DC  ISI  BUI  FWI  \\\n",
       "0   1     6  2012          29  57  18     0  65.7  3.4   7.6  1.3  3.4  0.5   \n",
       "1   2     6  2012          29  61  13   1.3  64.4  4.1   7.6    1  3.9  0.4   \n",
       "2   3     6  2012          26  82  22  13.1  47.1  2.5   7.1  0.3  2.7  0.1   \n",
       "3   4     6  2012          25  89  13   2.5  28.6  1.3   6.9    0  1.7    0   \n",
       "4   5     6  2012          27  77  16     0  64.8    3  14.2  1.2  3.9  0.5   \n",
       "\n",
       "     Classes    \n",
       "0  not fire     \n",
       "1  not fire     \n",
       "2  not fire     \n",
       "3  not fire     \n",
       "4  not fire     "
      ]
     },
     "execution_count": 509,
     "metadata": {},
     "output_type": "execute_result"
    }
   ],
   "source": [
    "dataset.head()"
   ]
  },
  {
   "cell_type": "code",
   "execution_count": 510,
   "id": "30a9c581",
   "metadata": {},
   "outputs": [
    {
     "name": "stdout",
     "output_type": "stream",
     "text": [
      "<class 'pandas.core.frame.DataFrame'>\n",
      "RangeIndex: 247 entries, 0 to 246\n",
      "Data columns (total 14 columns):\n",
      " #   Column       Non-Null Count  Dtype \n",
      "---  ------       --------------  ----- \n",
      " 0   day          246 non-null    object\n",
      " 1   month        245 non-null    object\n",
      " 2   year         245 non-null    object\n",
      " 3   Temperature  245 non-null    object\n",
      " 4    RH          245 non-null    object\n",
      " 5    Ws          245 non-null    object\n",
      " 6   Rain         245 non-null    object\n",
      " 7   FFMC         245 non-null    object\n",
      " 8   DMC          245 non-null    object\n",
      " 9   DC           245 non-null    object\n",
      " 10  ISI          245 non-null    object\n",
      " 11  BUI          245 non-null    object\n",
      " 12  FWI          245 non-null    object\n",
      " 13  Classes      244 non-null    object\n",
      "dtypes: object(14)\n",
      "memory usage: 27.1+ KB\n"
     ]
    }
   ],
   "source": [
    "dataset.info()"
   ]
  },
  {
   "cell_type": "markdown",
   "id": "00719d7b",
   "metadata": {},
   "source": [
    "### Data Cleaning"
   ]
  },
  {
   "cell_type": "code",
   "execution_count": 511,
   "id": "edbc7f97",
   "metadata": {},
   "outputs": [
    {
     "data": {
      "application/vnd.microsoft.datawrangler.viewer.v0+json": {
       "columns": [
        {
         "name": "index",
         "rawType": "int64",
         "type": "integer"
        },
        {
         "name": "day",
         "rawType": "object",
         "type": "unknown"
        },
        {
         "name": "month",
         "rawType": "object",
         "type": "unknown"
        },
        {
         "name": "year",
         "rawType": "object",
         "type": "unknown"
        },
        {
         "name": "Temperature",
         "rawType": "object",
         "type": "unknown"
        },
        {
         "name": " RH",
         "rawType": "object",
         "type": "unknown"
        },
        {
         "name": " Ws",
         "rawType": "object",
         "type": "unknown"
        },
        {
         "name": "Rain ",
         "rawType": "object",
         "type": "unknown"
        },
        {
         "name": "FFMC",
         "rawType": "object",
         "type": "unknown"
        },
        {
         "name": "DMC",
         "rawType": "object",
         "type": "unknown"
        },
        {
         "name": "DC",
         "rawType": "object",
         "type": "unknown"
        },
        {
         "name": "ISI",
         "rawType": "object",
         "type": "unknown"
        },
        {
         "name": "BUI",
         "rawType": "object",
         "type": "unknown"
        },
        {
         "name": "FWI",
         "rawType": "object",
         "type": "unknown"
        },
        {
         "name": "Classes  ",
         "rawType": "object",
         "type": "unknown"
        }
       ],
       "ref": "8aa5d8be-ab59-4e6e-855e-132c0d04beec",
       "rows": [
        [
         "122",
         null,
         null,
         null,
         null,
         null,
         null,
         null,
         null,
         null,
         null,
         null,
         null,
         null,
         null
        ],
        [
         "123",
         "Sidi-Bel Abbes Region Dataset",
         null,
         null,
         null,
         null,
         null,
         null,
         null,
         null,
         null,
         null,
         null,
         null,
         null
        ],
        [
         "168",
         "14",
         "7",
         "2012",
         "37",
         "37",
         "18",
         "0.2",
         "88.9",
         "12.9",
         "14.6 9",
         "12.5",
         "10.4",
         "fire   ",
         null
        ]
       ],
       "shape": {
        "columns": 14,
        "rows": 3
       }
      },
      "text/html": [
       "<div>\n",
       "<style scoped>\n",
       "    .dataframe tbody tr th:only-of-type {\n",
       "        vertical-align: middle;\n",
       "    }\n",
       "\n",
       "    .dataframe tbody tr th {\n",
       "        vertical-align: top;\n",
       "    }\n",
       "\n",
       "    .dataframe thead th {\n",
       "        text-align: right;\n",
       "    }\n",
       "</style>\n",
       "<table border=\"1\" class=\"dataframe\">\n",
       "  <thead>\n",
       "    <tr style=\"text-align: right;\">\n",
       "      <th></th>\n",
       "      <th>day</th>\n",
       "      <th>month</th>\n",
       "      <th>year</th>\n",
       "      <th>Temperature</th>\n",
       "      <th>RH</th>\n",
       "      <th>Ws</th>\n",
       "      <th>Rain</th>\n",
       "      <th>FFMC</th>\n",
       "      <th>DMC</th>\n",
       "      <th>DC</th>\n",
       "      <th>ISI</th>\n",
       "      <th>BUI</th>\n",
       "      <th>FWI</th>\n",
       "      <th>Classes</th>\n",
       "    </tr>\n",
       "  </thead>\n",
       "  <tbody>\n",
       "    <tr>\n",
       "      <th>122</th>\n",
       "      <td>NaN</td>\n",
       "      <td>NaN</td>\n",
       "      <td>NaN</td>\n",
       "      <td>NaN</td>\n",
       "      <td>NaN</td>\n",
       "      <td>NaN</td>\n",
       "      <td>NaN</td>\n",
       "      <td>NaN</td>\n",
       "      <td>NaN</td>\n",
       "      <td>NaN</td>\n",
       "      <td>NaN</td>\n",
       "      <td>NaN</td>\n",
       "      <td>NaN</td>\n",
       "      <td>NaN</td>\n",
       "    </tr>\n",
       "    <tr>\n",
       "      <th>123</th>\n",
       "      <td>Sidi-Bel Abbes Region Dataset</td>\n",
       "      <td>NaN</td>\n",
       "      <td>NaN</td>\n",
       "      <td>NaN</td>\n",
       "      <td>NaN</td>\n",
       "      <td>NaN</td>\n",
       "      <td>NaN</td>\n",
       "      <td>NaN</td>\n",
       "      <td>NaN</td>\n",
       "      <td>NaN</td>\n",
       "      <td>NaN</td>\n",
       "      <td>NaN</td>\n",
       "      <td>NaN</td>\n",
       "      <td>NaN</td>\n",
       "    </tr>\n",
       "    <tr>\n",
       "      <th>168</th>\n",
       "      <td>14</td>\n",
       "      <td>7</td>\n",
       "      <td>2012</td>\n",
       "      <td>37</td>\n",
       "      <td>37</td>\n",
       "      <td>18</td>\n",
       "      <td>0.2</td>\n",
       "      <td>88.9</td>\n",
       "      <td>12.9</td>\n",
       "      <td>14.6 9</td>\n",
       "      <td>12.5</td>\n",
       "      <td>10.4</td>\n",
       "      <td>fire</td>\n",
       "      <td>NaN</td>\n",
       "    </tr>\n",
       "  </tbody>\n",
       "</table>\n",
       "</div>"
      ],
      "text/plain": [
       "                               day month  year Temperature   RH   Ws Rain   \\\n",
       "122                            NaN   NaN   NaN         NaN  NaN  NaN   NaN   \n",
       "123  Sidi-Bel Abbes Region Dataset   NaN   NaN         NaN  NaN  NaN   NaN   \n",
       "168                             14     7  2012          37   37   18   0.2   \n",
       "\n",
       "     FFMC   DMC      DC   ISI   BUI      FWI Classes    \n",
       "122   NaN   NaN     NaN   NaN   NaN      NaN       NaN  \n",
       "123   NaN   NaN     NaN   NaN   NaN      NaN       NaN  \n",
       "168  88.9  12.9  14.6 9  12.5  10.4  fire          NaN  "
      ]
     },
     "execution_count": 511,
     "metadata": {},
     "output_type": "execute_result"
    }
   ],
   "source": [
    "## missing values\n",
    "\n",
    "dataset[dataset.isnull().any(axis=1)]"
   ]
  },
  {
   "cell_type": "code",
   "execution_count": 512,
   "id": "f7645bc5",
   "metadata": {},
   "outputs": [],
   "source": [
    "dataset.drop(122, inplace=True)\n",
    "dataset.drop(123, inplace=True)\n",
    "dataset.reset_index(drop=True, inplace=True)"
   ]
  },
  {
   "cell_type": "code",
   "execution_count": 513,
   "id": "8d4deb30",
   "metadata": {},
   "outputs": [
    {
     "data": {
      "application/vnd.microsoft.datawrangler.viewer.v0+json": {
       "columns": [
        {
         "name": "index",
         "rawType": "int64",
         "type": "integer"
        },
        {
         "name": "day",
         "rawType": "object",
         "type": "string"
        },
        {
         "name": "month",
         "rawType": "object",
         "type": "string"
        },
        {
         "name": "year",
         "rawType": "object",
         "type": "string"
        },
        {
         "name": "Temperature",
         "rawType": "object",
         "type": "string"
        },
        {
         "name": " RH",
         "rawType": "object",
         "type": "string"
        },
        {
         "name": " Ws",
         "rawType": "object",
         "type": "string"
        },
        {
         "name": "Rain ",
         "rawType": "object",
         "type": "string"
        },
        {
         "name": "FFMC",
         "rawType": "object",
         "type": "string"
        },
        {
         "name": "DMC",
         "rawType": "object",
         "type": "string"
        },
        {
         "name": "DC",
         "rawType": "object",
         "type": "string"
        },
        {
         "name": "ISI",
         "rawType": "object",
         "type": "string"
        },
        {
         "name": "BUI",
         "rawType": "object",
         "type": "string"
        },
        {
         "name": "FWI",
         "rawType": "object",
         "type": "string"
        },
        {
         "name": "Classes  ",
         "rawType": "object",
         "type": "unknown"
        }
       ],
       "ref": "43e27604-e4c6-486c-a03f-f8a052345967",
       "rows": [
        [
         "166",
         "14",
         "7",
         "2012",
         "37",
         "37",
         "18",
         "0.2",
         "88.9",
         "12.9",
         "14.6 9",
         "12.5",
         "10.4",
         "fire   ",
         null
        ]
       ],
       "shape": {
        "columns": 14,
        "rows": 1
       }
      },
      "text/html": [
       "<div>\n",
       "<style scoped>\n",
       "    .dataframe tbody tr th:only-of-type {\n",
       "        vertical-align: middle;\n",
       "    }\n",
       "\n",
       "    .dataframe tbody tr th {\n",
       "        vertical-align: top;\n",
       "    }\n",
       "\n",
       "    .dataframe thead th {\n",
       "        text-align: right;\n",
       "    }\n",
       "</style>\n",
       "<table border=\"1\" class=\"dataframe\">\n",
       "  <thead>\n",
       "    <tr style=\"text-align: right;\">\n",
       "      <th></th>\n",
       "      <th>day</th>\n",
       "      <th>month</th>\n",
       "      <th>year</th>\n",
       "      <th>Temperature</th>\n",
       "      <th>RH</th>\n",
       "      <th>Ws</th>\n",
       "      <th>Rain</th>\n",
       "      <th>FFMC</th>\n",
       "      <th>DMC</th>\n",
       "      <th>DC</th>\n",
       "      <th>ISI</th>\n",
       "      <th>BUI</th>\n",
       "      <th>FWI</th>\n",
       "      <th>Classes</th>\n",
       "    </tr>\n",
       "  </thead>\n",
       "  <tbody>\n",
       "    <tr>\n",
       "      <th>166</th>\n",
       "      <td>14</td>\n",
       "      <td>7</td>\n",
       "      <td>2012</td>\n",
       "      <td>37</td>\n",
       "      <td>37</td>\n",
       "      <td>18</td>\n",
       "      <td>0.2</td>\n",
       "      <td>88.9</td>\n",
       "      <td>12.9</td>\n",
       "      <td>14.6 9</td>\n",
       "      <td>12.5</td>\n",
       "      <td>10.4</td>\n",
       "      <td>fire</td>\n",
       "      <td>NaN</td>\n",
       "    </tr>\n",
       "  </tbody>\n",
       "</table>\n",
       "</div>"
      ],
      "text/plain": [
       "    day month  year Temperature  RH  Ws Rain   FFMC   DMC      DC   ISI   BUI  \\\n",
       "166  14     7  2012          37  37  18   0.2  88.9  12.9  14.6 9  12.5  10.4   \n",
       "\n",
       "         FWI Classes    \n",
       "166  fire          NaN  "
      ]
     },
     "execution_count": 513,
     "metadata": {},
     "output_type": "execute_result"
    }
   ],
   "source": [
    "\n",
    "dataset[dataset.isnull().any(axis=1)]"
   ]
  },
  {
   "cell_type": "code",
   "execution_count": 514,
   "id": "a0d4c6f7",
   "metadata": {},
   "outputs": [],
   "source": [
    "dataset.loc[:122,  \"Region\"] = 0\n",
    "dataset.loc[123 : ,  \"Region\"] = 1\n",
    "df = dataset"
   ]
  },
  {
   "cell_type": "code",
   "execution_count": 515,
   "id": "05f8f61b",
   "metadata": {},
   "outputs": [
    {
     "name": "stdout",
     "output_type": "stream",
     "text": [
      "<class 'pandas.core.frame.DataFrame'>\n",
      "RangeIndex: 245 entries, 0 to 244\n",
      "Data columns (total 15 columns):\n",
      " #   Column       Non-Null Count  Dtype  \n",
      "---  ------       --------------  -----  \n",
      " 0   day          245 non-null    object \n",
      " 1   month        245 non-null    object \n",
      " 2   year         245 non-null    object \n",
      " 3   Temperature  245 non-null    object \n",
      " 4    RH          245 non-null    object \n",
      " 5    Ws          245 non-null    object \n",
      " 6   Rain         245 non-null    object \n",
      " 7   FFMC         245 non-null    object \n",
      " 8   DMC          245 non-null    object \n",
      " 9   DC           245 non-null    object \n",
      " 10  ISI          245 non-null    object \n",
      " 11  BUI          245 non-null    object \n",
      " 12  FWI          245 non-null    object \n",
      " 13  Classes      244 non-null    object \n",
      " 14  Region       245 non-null    float64\n",
      "dtypes: float64(1), object(14)\n",
      "memory usage: 28.8+ KB\n"
     ]
    }
   ],
   "source": [
    "df.info()"
   ]
  },
  {
   "cell_type": "code",
   "execution_count": 516,
   "id": "5c1d7bc0",
   "metadata": {},
   "outputs": [],
   "source": [
    "df[['Region']] = df[['Region']].astype(int)"
   ]
  },
  {
   "cell_type": "code",
   "execution_count": 517,
   "id": "0ad175bf",
   "metadata": {},
   "outputs": [
    {
     "name": "stdout",
     "output_type": "stream",
     "text": [
      "<class 'pandas.core.frame.DataFrame'>\n",
      "RangeIndex: 245 entries, 0 to 244\n",
      "Data columns (total 15 columns):\n",
      " #   Column       Non-Null Count  Dtype \n",
      "---  ------       --------------  ----- \n",
      " 0   day          245 non-null    object\n",
      " 1   month        245 non-null    object\n",
      " 2   year         245 non-null    object\n",
      " 3   Temperature  245 non-null    object\n",
      " 4    RH          245 non-null    object\n",
      " 5    Ws          245 non-null    object\n",
      " 6   Rain         245 non-null    object\n",
      " 7   FFMC         245 non-null    object\n",
      " 8   DMC          245 non-null    object\n",
      " 9   DC           245 non-null    object\n",
      " 10  ISI          245 non-null    object\n",
      " 11  BUI          245 non-null    object\n",
      " 12  FWI          245 non-null    object\n",
      " 13  Classes      244 non-null    object\n",
      " 14  Region       245 non-null    int64 \n",
      "dtypes: int64(1), object(14)\n",
      "memory usage: 28.8+ KB\n"
     ]
    }
   ],
   "source": [
    "df.info()"
   ]
  },
  {
   "cell_type": "code",
   "execution_count": 518,
   "id": "0dc52873",
   "metadata": {},
   "outputs": [
    {
     "data": {
      "application/vnd.microsoft.datawrangler.viewer.v0+json": {
       "columns": [
        {
         "name": "index",
         "rawType": "int64",
         "type": "integer"
        },
        {
         "name": "day",
         "rawType": "object",
         "type": "string"
        },
        {
         "name": "month",
         "rawType": "object",
         "type": "string"
        },
        {
         "name": "year",
         "rawType": "object",
         "type": "string"
        },
        {
         "name": "Temperature",
         "rawType": "object",
         "type": "string"
        },
        {
         "name": " RH",
         "rawType": "object",
         "type": "string"
        },
        {
         "name": " Ws",
         "rawType": "object",
         "type": "string"
        },
        {
         "name": "Rain ",
         "rawType": "object",
         "type": "string"
        },
        {
         "name": "FFMC",
         "rawType": "object",
         "type": "string"
        },
        {
         "name": "DMC",
         "rawType": "object",
         "type": "string"
        },
        {
         "name": "DC",
         "rawType": "object",
         "type": "string"
        },
        {
         "name": "ISI",
         "rawType": "object",
         "type": "string"
        },
        {
         "name": "BUI",
         "rawType": "object",
         "type": "string"
        },
        {
         "name": "FWI",
         "rawType": "object",
         "type": "string"
        },
        {
         "name": "Classes  ",
         "rawType": "object",
         "type": "string"
        },
        {
         "name": "Region",
         "rawType": "int64",
         "type": "integer"
        }
       ],
       "ref": "7feec893-d2a1-4590-a9b5-9284fa70fceb",
       "rows": [
        [
         "240",
         "26",
         "9",
         "2012",
         "30",
         "65",
         "14",
         "0",
         "85.4",
         "16",
         "44.5",
         "4.5",
         "16.9",
         "6.5",
         "fire   ",
         "1"
        ],
        [
         "241",
         "27",
         "9",
         "2012",
         "28",
         "87",
         "15",
         "4.4",
         "41.1",
         "6.5",
         "8",
         "0.1",
         "6.2",
         "0",
         "not fire   ",
         "1"
        ],
        [
         "242",
         "28",
         "9",
         "2012",
         "27",
         "87",
         "29",
         "0.5",
         "45.9",
         "3.5",
         "7.9",
         "0.4",
         "3.4",
         "0.2",
         "not fire   ",
         "1"
        ],
        [
         "243",
         "29",
         "9",
         "2012",
         "24",
         "54",
         "18",
         "0.1",
         "79.7",
         "4.3",
         "15.2",
         "1.7",
         "5.1",
         "0.7",
         "not fire   ",
         "1"
        ],
        [
         "244",
         "30",
         "9",
         "2012",
         "24",
         "64",
         "15",
         "0.2",
         "67.3",
         "3.8",
         "16.5",
         "1.2",
         "4.8",
         "0.5",
         "not fire    ",
         "1"
        ]
       ],
       "shape": {
        "columns": 15,
        "rows": 5
       }
      },
      "text/html": [
       "<div>\n",
       "<style scoped>\n",
       "    .dataframe tbody tr th:only-of-type {\n",
       "        vertical-align: middle;\n",
       "    }\n",
       "\n",
       "    .dataframe tbody tr th {\n",
       "        vertical-align: top;\n",
       "    }\n",
       "\n",
       "    .dataframe thead th {\n",
       "        text-align: right;\n",
       "    }\n",
       "</style>\n",
       "<table border=\"1\" class=\"dataframe\">\n",
       "  <thead>\n",
       "    <tr style=\"text-align: right;\">\n",
       "      <th></th>\n",
       "      <th>day</th>\n",
       "      <th>month</th>\n",
       "      <th>year</th>\n",
       "      <th>Temperature</th>\n",
       "      <th>RH</th>\n",
       "      <th>Ws</th>\n",
       "      <th>Rain</th>\n",
       "      <th>FFMC</th>\n",
       "      <th>DMC</th>\n",
       "      <th>DC</th>\n",
       "      <th>ISI</th>\n",
       "      <th>BUI</th>\n",
       "      <th>FWI</th>\n",
       "      <th>Classes</th>\n",
       "      <th>Region</th>\n",
       "    </tr>\n",
       "  </thead>\n",
       "  <tbody>\n",
       "    <tr>\n",
       "      <th>240</th>\n",
       "      <td>26</td>\n",
       "      <td>9</td>\n",
       "      <td>2012</td>\n",
       "      <td>30</td>\n",
       "      <td>65</td>\n",
       "      <td>14</td>\n",
       "      <td>0</td>\n",
       "      <td>85.4</td>\n",
       "      <td>16</td>\n",
       "      <td>44.5</td>\n",
       "      <td>4.5</td>\n",
       "      <td>16.9</td>\n",
       "      <td>6.5</td>\n",
       "      <td>fire</td>\n",
       "      <td>1</td>\n",
       "    </tr>\n",
       "    <tr>\n",
       "      <th>241</th>\n",
       "      <td>27</td>\n",
       "      <td>9</td>\n",
       "      <td>2012</td>\n",
       "      <td>28</td>\n",
       "      <td>87</td>\n",
       "      <td>15</td>\n",
       "      <td>4.4</td>\n",
       "      <td>41.1</td>\n",
       "      <td>6.5</td>\n",
       "      <td>8</td>\n",
       "      <td>0.1</td>\n",
       "      <td>6.2</td>\n",
       "      <td>0</td>\n",
       "      <td>not fire</td>\n",
       "      <td>1</td>\n",
       "    </tr>\n",
       "    <tr>\n",
       "      <th>242</th>\n",
       "      <td>28</td>\n",
       "      <td>9</td>\n",
       "      <td>2012</td>\n",
       "      <td>27</td>\n",
       "      <td>87</td>\n",
       "      <td>29</td>\n",
       "      <td>0.5</td>\n",
       "      <td>45.9</td>\n",
       "      <td>3.5</td>\n",
       "      <td>7.9</td>\n",
       "      <td>0.4</td>\n",
       "      <td>3.4</td>\n",
       "      <td>0.2</td>\n",
       "      <td>not fire</td>\n",
       "      <td>1</td>\n",
       "    </tr>\n",
       "    <tr>\n",
       "      <th>243</th>\n",
       "      <td>29</td>\n",
       "      <td>9</td>\n",
       "      <td>2012</td>\n",
       "      <td>24</td>\n",
       "      <td>54</td>\n",
       "      <td>18</td>\n",
       "      <td>0.1</td>\n",
       "      <td>79.7</td>\n",
       "      <td>4.3</td>\n",
       "      <td>15.2</td>\n",
       "      <td>1.7</td>\n",
       "      <td>5.1</td>\n",
       "      <td>0.7</td>\n",
       "      <td>not fire</td>\n",
       "      <td>1</td>\n",
       "    </tr>\n",
       "    <tr>\n",
       "      <th>244</th>\n",
       "      <td>30</td>\n",
       "      <td>9</td>\n",
       "      <td>2012</td>\n",
       "      <td>24</td>\n",
       "      <td>64</td>\n",
       "      <td>15</td>\n",
       "      <td>0.2</td>\n",
       "      <td>67.3</td>\n",
       "      <td>3.8</td>\n",
       "      <td>16.5</td>\n",
       "      <td>1.2</td>\n",
       "      <td>4.8</td>\n",
       "      <td>0.5</td>\n",
       "      <td>not fire</td>\n",
       "      <td>1</td>\n",
       "    </tr>\n",
       "  </tbody>\n",
       "</table>\n",
       "</div>"
      ],
      "text/plain": [
       "    day month  year Temperature  RH  Ws Rain   FFMC  DMC    DC  ISI   BUI  \\\n",
       "240  26     9  2012          30  65  14     0  85.4   16  44.5  4.5  16.9   \n",
       "241  27     9  2012          28  87  15   4.4  41.1  6.5     8  0.1   6.2   \n",
       "242  28     9  2012          27  87  29   0.5  45.9  3.5   7.9  0.4   3.4   \n",
       "243  29     9  2012          24  54  18   0.1  79.7  4.3  15.2  1.7   5.1   \n",
       "244  30     9  2012          24  64  15   0.2  67.3  3.8  16.5  1.2   4.8   \n",
       "\n",
       "     FWI     Classes    Region  \n",
       "240  6.5       fire          1  \n",
       "241    0   not fire          1  \n",
       "242  0.2   not fire          1  \n",
       "243  0.7   not fire          1  \n",
       "244  0.5  not fire           1  "
      ]
     },
     "execution_count": 518,
     "metadata": {},
     "output_type": "execute_result"
    }
   ],
   "source": [
    "df.tail()"
   ]
  },
  {
   "cell_type": "code",
   "execution_count": 519,
   "id": "8f16d09f",
   "metadata": {},
   "outputs": [
    {
     "data": {
      "application/vnd.microsoft.datawrangler.viewer.v0+json": {
       "columns": [
        {
         "name": "index",
         "rawType": "int64",
         "type": "integer"
        },
        {
         "name": "day",
         "rawType": "object",
         "type": "string"
        },
        {
         "name": "month",
         "rawType": "object",
         "type": "string"
        },
        {
         "name": "year",
         "rawType": "object",
         "type": "string"
        },
        {
         "name": "Temperature",
         "rawType": "object",
         "type": "string"
        },
        {
         "name": " RH",
         "rawType": "object",
         "type": "string"
        },
        {
         "name": " Ws",
         "rawType": "object",
         "type": "string"
        },
        {
         "name": "Rain ",
         "rawType": "object",
         "type": "string"
        },
        {
         "name": "FFMC",
         "rawType": "object",
         "type": "string"
        },
        {
         "name": "DMC",
         "rawType": "object",
         "type": "string"
        },
        {
         "name": "DC",
         "rawType": "object",
         "type": "string"
        },
        {
         "name": "ISI",
         "rawType": "object",
         "type": "string"
        },
        {
         "name": "BUI",
         "rawType": "object",
         "type": "string"
        },
        {
         "name": "FWI",
         "rawType": "object",
         "type": "string"
        },
        {
         "name": "Classes  ",
         "rawType": "object",
         "type": "unknown"
        },
        {
         "name": "Region",
         "rawType": "int64",
         "type": "integer"
        }
       ],
       "ref": "1cdc3eb1-1991-4d3e-9a04-f438a560d671",
       "rows": [
        [
         "166",
         "14",
         "7",
         "2012",
         "37",
         "37",
         "18",
         "0.2",
         "88.9",
         "12.9",
         "14.6 9",
         "12.5",
         "10.4",
         "fire   ",
         null,
         "1"
        ]
       ],
       "shape": {
        "columns": 15,
        "rows": 1
       }
      },
      "text/html": [
       "<div>\n",
       "<style scoped>\n",
       "    .dataframe tbody tr th:only-of-type {\n",
       "        vertical-align: middle;\n",
       "    }\n",
       "\n",
       "    .dataframe tbody tr th {\n",
       "        vertical-align: top;\n",
       "    }\n",
       "\n",
       "    .dataframe thead th {\n",
       "        text-align: right;\n",
       "    }\n",
       "</style>\n",
       "<table border=\"1\" class=\"dataframe\">\n",
       "  <thead>\n",
       "    <tr style=\"text-align: right;\">\n",
       "      <th></th>\n",
       "      <th>day</th>\n",
       "      <th>month</th>\n",
       "      <th>year</th>\n",
       "      <th>Temperature</th>\n",
       "      <th>RH</th>\n",
       "      <th>Ws</th>\n",
       "      <th>Rain</th>\n",
       "      <th>FFMC</th>\n",
       "      <th>DMC</th>\n",
       "      <th>DC</th>\n",
       "      <th>ISI</th>\n",
       "      <th>BUI</th>\n",
       "      <th>FWI</th>\n",
       "      <th>Classes</th>\n",
       "      <th>Region</th>\n",
       "    </tr>\n",
       "  </thead>\n",
       "  <tbody>\n",
       "    <tr>\n",
       "      <th>166</th>\n",
       "      <td>14</td>\n",
       "      <td>7</td>\n",
       "      <td>2012</td>\n",
       "      <td>37</td>\n",
       "      <td>37</td>\n",
       "      <td>18</td>\n",
       "      <td>0.2</td>\n",
       "      <td>88.9</td>\n",
       "      <td>12.9</td>\n",
       "      <td>14.6 9</td>\n",
       "      <td>12.5</td>\n",
       "      <td>10.4</td>\n",
       "      <td>fire</td>\n",
       "      <td>NaN</td>\n",
       "      <td>1</td>\n",
       "    </tr>\n",
       "  </tbody>\n",
       "</table>\n",
       "</div>"
      ],
      "text/plain": [
       "    day month  year Temperature  RH  Ws Rain   FFMC   DMC      DC   ISI   BUI  \\\n",
       "166  14     7  2012          37  37  18   0.2  88.9  12.9  14.6 9  12.5  10.4   \n",
       "\n",
       "         FWI Classes    Region  \n",
       "166  fire          NaN       1  "
      ]
     },
     "execution_count": 519,
     "metadata": {},
     "output_type": "execute_result"
    }
   ],
   "source": [
    "df[df.isnull().any(axis=1)]"
   ]
  },
  {
   "cell_type": "code",
   "execution_count": 520,
   "id": "50802e3f",
   "metadata": {},
   "outputs": [
    {
     "data": {
      "application/vnd.microsoft.datawrangler.viewer.v0+json": {
       "columns": [
        {
         "name": "index",
         "rawType": "int64",
         "type": "integer"
        },
        {
         "name": "day",
         "rawType": "object",
         "type": "string"
        },
        {
         "name": "month",
         "rawType": "object",
         "type": "string"
        },
        {
         "name": "year",
         "rawType": "object",
         "type": "string"
        },
        {
         "name": "Temperature",
         "rawType": "object",
         "type": "string"
        },
        {
         "name": " RH",
         "rawType": "object",
         "type": "string"
        },
        {
         "name": " Ws",
         "rawType": "object",
         "type": "string"
        },
        {
         "name": "Rain ",
         "rawType": "object",
         "type": "string"
        },
        {
         "name": "FFMC",
         "rawType": "object",
         "type": "string"
        },
        {
         "name": "DMC",
         "rawType": "object",
         "type": "string"
        },
        {
         "name": "DC",
         "rawType": "object",
         "type": "string"
        },
        {
         "name": "ISI",
         "rawType": "object",
         "type": "string"
        },
        {
         "name": "BUI",
         "rawType": "object",
         "type": "string"
        },
        {
         "name": "FWI",
         "rawType": "object",
         "type": "string"
        },
        {
         "name": "Classes  ",
         "rawType": "object",
         "type": "string"
        },
        {
         "name": "Region",
         "rawType": "int64",
         "type": "integer"
        }
       ],
       "ref": "26002041-23ac-4c40-8b2d-62d6ce0f6292",
       "rows": [
        [
         "0",
         "1",
         "6",
         "2012",
         "29",
         "57",
         "18",
         "0",
         "65.7",
         "3.4",
         "7.6",
         "1.3",
         "3.4",
         "0.5",
         "not fire   ",
         "0"
        ],
        [
         "1",
         "2",
         "6",
         "2012",
         "29",
         "61",
         "13",
         "1.3",
         "64.4",
         "4.1",
         "7.6",
         "1",
         "3.9",
         "0.4",
         "not fire   ",
         "0"
        ],
        [
         "2",
         "3",
         "6",
         "2012",
         "26",
         "82",
         "22",
         "13.1",
         "47.1",
         "2.5",
         "7.1",
         "0.3",
         "2.7",
         "0.1",
         "not fire   ",
         "0"
        ],
        [
         "3",
         "4",
         "6",
         "2012",
         "25",
         "89",
         "13",
         "2.5",
         "28.6",
         "1.3",
         "6.9",
         "0",
         "1.7",
         "0",
         "not fire   ",
         "0"
        ],
        [
         "4",
         "5",
         "6",
         "2012",
         "27",
         "77",
         "16",
         "0",
         "64.8",
         "3",
         "14.2",
         "1.2",
         "3.9",
         "0.5",
         "not fire   ",
         "0"
        ],
        [
         "5",
         "6",
         "6",
         "2012",
         "31",
         "67",
         "14",
         "0",
         "82.6",
         "5.8",
         "22.2",
         "3.1",
         "7",
         "2.5",
         "fire   ",
         "0"
        ],
        [
         "6",
         "7",
         "6",
         "2012",
         "33",
         "54",
         "13",
         "0",
         "88.2",
         "9.9",
         "30.5",
         "6.4",
         "10.9",
         "7.2",
         "fire   ",
         "0"
        ],
        [
         "7",
         "8",
         "6",
         "2012",
         "30",
         "73",
         "15",
         "0",
         "86.6",
         "12.1",
         "38.3",
         "5.6",
         "13.5",
         "7.1",
         "fire   ",
         "0"
        ],
        [
         "8",
         "9",
         "6",
         "2012",
         "25",
         "88",
         "13",
         "0.2",
         "52.9",
         "7.9",
         "38.8",
         "0.4",
         "10.5",
         "0.3",
         "not fire   ",
         "0"
        ],
        [
         "9",
         "10",
         "6",
         "2012",
         "28",
         "79",
         "12",
         "0",
         "73.2",
         "9.5",
         "46.3",
         "1.3",
         "12.6",
         "0.9",
         "not fire   ",
         "0"
        ],
        [
         "10",
         "11",
         "6",
         "2012",
         "31",
         "65",
         "14",
         "0",
         "84.5",
         "12.5",
         "54.3",
         "4",
         "15.8",
         "5.6",
         "fire   ",
         "0"
        ],
        [
         "11",
         "12",
         "6",
         "2012",
         "26",
         "81",
         "19",
         "0",
         "84",
         "13.8",
         "61.4",
         "4.8",
         "17.7",
         "7.1",
         "fire   ",
         "0"
        ],
        [
         "12",
         "13",
         "6",
         "2012",
         "27",
         "84",
         "21",
         "1.2",
         "50",
         "6.7",
         "17",
         "0.5",
         "6.7",
         "0.2",
         "not fire   ",
         "0"
        ],
        [
         "13",
         "14",
         "6",
         "2012",
         "30",
         "78",
         "20",
         "0.5",
         "59",
         "4.6",
         "7.8",
         "1",
         "4.4",
         "0.4",
         "not fire   ",
         "0"
        ],
        [
         "14",
         "15",
         "6",
         "2012",
         "28",
         "80",
         "17",
         "3.1",
         "49.4",
         "3",
         "7.4",
         "0.4",
         "3",
         "0.1",
         "not fire   ",
         "0"
        ],
        [
         "15",
         "16",
         "6",
         "2012",
         "29",
         "89",
         "13",
         "0.7",
         "36.1",
         "1.7",
         "7.6",
         "0",
         "2.2",
         "0",
         "not fire   ",
         "0"
        ],
        [
         "16",
         "17",
         "6",
         "2012",
         "30",
         "89",
         "16",
         "0.6",
         "37.3",
         "1.1",
         "7.8",
         "0",
         "1.6",
         "0",
         "not fire   ",
         "0"
        ],
        [
         "17",
         "18",
         "6",
         "2012",
         "31",
         "78",
         "14",
         "0.3",
         "56.9",
         "1.9",
         "8",
         "0.7",
         "2.4",
         "0.2",
         "not fire   ",
         "0"
        ],
        [
         "18",
         "19",
         "6",
         "2012",
         "31",
         "55",
         "16",
         "0.1",
         "79.9",
         "4.5",
         "16",
         "2.5",
         "5.3",
         "1.4",
         "not fire   ",
         "0"
        ],
        [
         "19",
         "20",
         "6",
         "2012",
         "30",
         "80",
         "16",
         "0.4",
         "59.8",
         "3.4",
         "27.1",
         "0.9",
         "5.1",
         "0.4",
         "not fire   ",
         "0"
        ],
        [
         "20",
         "21",
         "6",
         "2012",
         "30",
         "78",
         "14",
         "0",
         "81",
         "6.3",
         "31.6",
         "2.6",
         "8.4",
         "2.2",
         "fire   ",
         "0"
        ],
        [
         "21",
         "22",
         "6",
         "2012",
         "31",
         "67",
         "17",
         "0.1",
         "79.1",
         "7",
         "39.5",
         "2.4",
         "9.7",
         "2.3",
         "not fire   ",
         "0"
        ],
        [
         "22",
         "23",
         "6",
         "2012",
         "32",
         "62",
         "18",
         "0.1",
         "81.4",
         "8.2",
         "47.7",
         "3.3",
         "11.5",
         "3.8",
         "fire   ",
         "0"
        ],
        [
         "23",
         "24",
         "6",
         "2012",
         "32",
         "66",
         "17",
         "0",
         "85.9",
         "11.2",
         "55.8",
         "5.6",
         "14.9",
         "7.5",
         "fire   ",
         "0"
        ],
        [
         "24",
         "25",
         "6",
         "2012",
         "31",
         "64",
         "15",
         "0",
         "86.7",
         "14.2",
         "63.8",
         "5.7",
         "18.3",
         "8.4",
         "fire   ",
         "0"
        ],
        [
         "25",
         "26",
         "6",
         "2012",
         "31",
         "64",
         "18",
         "0",
         "86.8",
         "17.8",
         "71.8",
         "6.7",
         "21.6",
         "10.6",
         "fire   ",
         "0"
        ],
        [
         "26",
         "27",
         "6",
         "2012",
         "34",
         "53",
         "18",
         "0",
         "89",
         "21.6",
         "80.3",
         "9.2",
         "25.8",
         "15",
         "fire   ",
         "0"
        ],
        [
         "27",
         "28",
         "6",
         "2012",
         "32",
         "55",
         "14",
         "0",
         "89.1",
         "25.5",
         "88.5",
         "7.6",
         "29.7",
         "13.9",
         "fire   ",
         "0"
        ],
        [
         "28",
         "29",
         "6",
         "2012",
         "32",
         "47",
         "13",
         "0.3",
         "79.9",
         "18.4",
         "84.4",
         "2.2",
         "23.8",
         "3.9",
         "not fire   ",
         "0"
        ],
        [
         "29",
         "30",
         "6",
         "2012",
         "33",
         "50",
         "14",
         "0",
         "88.7",
         "22.9",
         "92.8",
         "7.2",
         "28.3",
         "12.9",
         "fire   ",
         "0"
        ],
        [
         "30",
         "1",
         "7",
         "2012",
         "29",
         "68",
         "19",
         "1",
         "59.9",
         "2.5",
         "8.6",
         "1.1",
         "2.9",
         "0.4",
         "not fire   ",
         "0"
        ],
        [
         "31",
         "2",
         "7",
         "2012",
         "27",
         "75",
         "19",
         "1.2",
         "55.7",
         "2.4",
         "8.3",
         "0.8",
         "2.8",
         "0.3",
         "not fire   ",
         "0"
        ],
        [
         "32",
         "3",
         "7",
         "2012",
         "32",
         "76",
         "20",
         "0.7",
         "63.1",
         "2.6",
         "9.2",
         "1.3",
         "3",
         "0.5",
         "not fire   ",
         "0"
        ],
        [
         "33",
         "4",
         "7",
         "2012",
         "33",
         "78",
         "17",
         "0",
         "80.1",
         "4.6",
         "18.5",
         "2.7",
         "5.7",
         "1.7",
         "not fire   ",
         "0"
        ],
        [
         "34",
         "5",
         "7",
         "2012",
         "33",
         "66",
         "14",
         "0",
         "85.9",
         "7.6",
         "27.9",
         "4.8",
         "9.1",
         "4.9",
         "fire   ",
         "0"
        ],
        [
         "35",
         "6",
         "7",
         "2012",
         "32",
         "63",
         "14",
         "0",
         "87",
         "10.9",
         "37",
         "5.6",
         "12.5",
         "6.8",
         "fire   ",
         "0"
        ],
        [
         "36",
         "7",
         "7",
         "2012",
         "35",
         "64",
         "18",
         "0.2",
         "80",
         "9.7",
         "40.4",
         "2.8",
         "12.1",
         "3.2",
         "not fire   ",
         "0"
        ],
        [
         "37",
         "8",
         "7",
         "2012",
         "33",
         "68",
         "19",
         "0",
         "85.6",
         "12.5",
         "49.8",
         "6",
         "15.4",
         "8",
         "fire   ",
         "0"
        ],
        [
         "38",
         "9",
         "7",
         "2012",
         "32",
         "68",
         "14",
         "1.4",
         "66.6",
         "7.7",
         "9.2",
         "1.1",
         "7.4",
         "0.6",
         "not fire   ",
         "0"
        ],
        [
         "39",
         "10",
         "7",
         "2012",
         "33",
         "69",
         "13",
         "0.7",
         "66.6",
         "6",
         "9.3",
         "1.1",
         "5.8",
         "0.5",
         "not fire   ",
         "0"
        ],
        [
         "40",
         "11",
         "7",
         "2012",
         "33",
         "76",
         "14",
         "0",
         "81.1",
         "8.1",
         "18.7",
         "2.6",
         "8.1",
         "2.2",
         "not fire   ",
         "0"
        ],
        [
         "41",
         "12",
         "7",
         "2012",
         "31",
         "75",
         "13",
         "0.1",
         "75.1",
         "7.9",
         "27.7",
         "1.5",
         "9.2",
         "0.9",
         "not fire   ",
         "0"
        ],
        [
         "42",
         "13",
         "7",
         "2012",
         "34",
         "81",
         "15",
         "0",
         "81.8",
         "9.7",
         "37.2",
         "3",
         "11.7",
         "3.4",
         "not fire   ",
         "0"
        ],
        [
         "43",
         "14",
         "7",
         "2012",
         "34",
         "61",
         "13",
         "0.6",
         "73.9",
         "7.8",
         "22.9",
         "1.4",
         "8.4",
         "0.8",
         "not fire   ",
         "0"
        ],
        [
         "44",
         "15",
         "7",
         "2012",
         "30",
         "80",
         "19",
         "0.4",
         "60.7",
         "5.2",
         "17",
         "1.1",
         "5.9",
         "0.5",
         "not fire   ",
         "0"
        ],
        [
         "45",
         "16",
         "7",
         "2012",
         "28",
         "76",
         "21",
         "0",
         "72.6",
         "7",
         "25.5",
         "0.7",
         "8.3",
         "0.4",
         "not fire   ",
         "0"
        ],
        [
         "46",
         "17",
         "7",
         "2012",
         "29",
         "70",
         "14",
         "0",
         "82.8",
         "9.4",
         "34.1",
         "3.2",
         "11.1",
         "3.6",
         "fire   ",
         "0"
        ],
        [
         "47",
         "18",
         "7",
         "2012",
         "31",
         "68",
         "14",
         "0",
         "85.4",
         "12.1",
         "43.1",
         "4.6",
         "14.2",
         "6",
         "fire   ",
         "0"
        ],
        [
         "48",
         "19",
         "7",
         "2012",
         "35",
         "59",
         "17",
         "0",
         "88.1",
         "12",
         "52.8",
         "7.7",
         "18.2",
         "10.9",
         "fire   ",
         "0"
        ],
        [
         "49",
         "20",
         "7",
         "2012",
         "33",
         "65",
         "15",
         "0.1",
         "81.4",
         "12.3",
         "62.1",
         "2.8",
         "16.5",
         "4",
         "fire   ",
         "0"
        ]
       ],
       "shape": {
        "columns": 15,
        "rows": 244
       }
      },
      "text/html": [
       "<div>\n",
       "<style scoped>\n",
       "    .dataframe tbody tr th:only-of-type {\n",
       "        vertical-align: middle;\n",
       "    }\n",
       "\n",
       "    .dataframe tbody tr th {\n",
       "        vertical-align: top;\n",
       "    }\n",
       "\n",
       "    .dataframe thead th {\n",
       "        text-align: right;\n",
       "    }\n",
       "</style>\n",
       "<table border=\"1\" class=\"dataframe\">\n",
       "  <thead>\n",
       "    <tr style=\"text-align: right;\">\n",
       "      <th></th>\n",
       "      <th>day</th>\n",
       "      <th>month</th>\n",
       "      <th>year</th>\n",
       "      <th>Temperature</th>\n",
       "      <th>RH</th>\n",
       "      <th>Ws</th>\n",
       "      <th>Rain</th>\n",
       "      <th>FFMC</th>\n",
       "      <th>DMC</th>\n",
       "      <th>DC</th>\n",
       "      <th>ISI</th>\n",
       "      <th>BUI</th>\n",
       "      <th>FWI</th>\n",
       "      <th>Classes</th>\n",
       "      <th>Region</th>\n",
       "    </tr>\n",
       "  </thead>\n",
       "  <tbody>\n",
       "    <tr>\n",
       "      <th>0</th>\n",
       "      <td>1</td>\n",
       "      <td>6</td>\n",
       "      <td>2012</td>\n",
       "      <td>29</td>\n",
       "      <td>57</td>\n",
       "      <td>18</td>\n",
       "      <td>0</td>\n",
       "      <td>65.7</td>\n",
       "      <td>3.4</td>\n",
       "      <td>7.6</td>\n",
       "      <td>1.3</td>\n",
       "      <td>3.4</td>\n",
       "      <td>0.5</td>\n",
       "      <td>not fire</td>\n",
       "      <td>0</td>\n",
       "    </tr>\n",
       "    <tr>\n",
       "      <th>1</th>\n",
       "      <td>2</td>\n",
       "      <td>6</td>\n",
       "      <td>2012</td>\n",
       "      <td>29</td>\n",
       "      <td>61</td>\n",
       "      <td>13</td>\n",
       "      <td>1.3</td>\n",
       "      <td>64.4</td>\n",
       "      <td>4.1</td>\n",
       "      <td>7.6</td>\n",
       "      <td>1</td>\n",
       "      <td>3.9</td>\n",
       "      <td>0.4</td>\n",
       "      <td>not fire</td>\n",
       "      <td>0</td>\n",
       "    </tr>\n",
       "    <tr>\n",
       "      <th>2</th>\n",
       "      <td>3</td>\n",
       "      <td>6</td>\n",
       "      <td>2012</td>\n",
       "      <td>26</td>\n",
       "      <td>82</td>\n",
       "      <td>22</td>\n",
       "      <td>13.1</td>\n",
       "      <td>47.1</td>\n",
       "      <td>2.5</td>\n",
       "      <td>7.1</td>\n",
       "      <td>0.3</td>\n",
       "      <td>2.7</td>\n",
       "      <td>0.1</td>\n",
       "      <td>not fire</td>\n",
       "      <td>0</td>\n",
       "    </tr>\n",
       "    <tr>\n",
       "      <th>3</th>\n",
       "      <td>4</td>\n",
       "      <td>6</td>\n",
       "      <td>2012</td>\n",
       "      <td>25</td>\n",
       "      <td>89</td>\n",
       "      <td>13</td>\n",
       "      <td>2.5</td>\n",
       "      <td>28.6</td>\n",
       "      <td>1.3</td>\n",
       "      <td>6.9</td>\n",
       "      <td>0</td>\n",
       "      <td>1.7</td>\n",
       "      <td>0</td>\n",
       "      <td>not fire</td>\n",
       "      <td>0</td>\n",
       "    </tr>\n",
       "    <tr>\n",
       "      <th>4</th>\n",
       "      <td>5</td>\n",
       "      <td>6</td>\n",
       "      <td>2012</td>\n",
       "      <td>27</td>\n",
       "      <td>77</td>\n",
       "      <td>16</td>\n",
       "      <td>0</td>\n",
       "      <td>64.8</td>\n",
       "      <td>3</td>\n",
       "      <td>14.2</td>\n",
       "      <td>1.2</td>\n",
       "      <td>3.9</td>\n",
       "      <td>0.5</td>\n",
       "      <td>not fire</td>\n",
       "      <td>0</td>\n",
       "    </tr>\n",
       "    <tr>\n",
       "      <th>...</th>\n",
       "      <td>...</td>\n",
       "      <td>...</td>\n",
       "      <td>...</td>\n",
       "      <td>...</td>\n",
       "      <td>...</td>\n",
       "      <td>...</td>\n",
       "      <td>...</td>\n",
       "      <td>...</td>\n",
       "      <td>...</td>\n",
       "      <td>...</td>\n",
       "      <td>...</td>\n",
       "      <td>...</td>\n",
       "      <td>...</td>\n",
       "      <td>...</td>\n",
       "      <td>...</td>\n",
       "    </tr>\n",
       "    <tr>\n",
       "      <th>239</th>\n",
       "      <td>26</td>\n",
       "      <td>9</td>\n",
       "      <td>2012</td>\n",
       "      <td>30</td>\n",
       "      <td>65</td>\n",
       "      <td>14</td>\n",
       "      <td>0</td>\n",
       "      <td>85.4</td>\n",
       "      <td>16</td>\n",
       "      <td>44.5</td>\n",
       "      <td>4.5</td>\n",
       "      <td>16.9</td>\n",
       "      <td>6.5</td>\n",
       "      <td>fire</td>\n",
       "      <td>1</td>\n",
       "    </tr>\n",
       "    <tr>\n",
       "      <th>240</th>\n",
       "      <td>27</td>\n",
       "      <td>9</td>\n",
       "      <td>2012</td>\n",
       "      <td>28</td>\n",
       "      <td>87</td>\n",
       "      <td>15</td>\n",
       "      <td>4.4</td>\n",
       "      <td>41.1</td>\n",
       "      <td>6.5</td>\n",
       "      <td>8</td>\n",
       "      <td>0.1</td>\n",
       "      <td>6.2</td>\n",
       "      <td>0</td>\n",
       "      <td>not fire</td>\n",
       "      <td>1</td>\n",
       "    </tr>\n",
       "    <tr>\n",
       "      <th>241</th>\n",
       "      <td>28</td>\n",
       "      <td>9</td>\n",
       "      <td>2012</td>\n",
       "      <td>27</td>\n",
       "      <td>87</td>\n",
       "      <td>29</td>\n",
       "      <td>0.5</td>\n",
       "      <td>45.9</td>\n",
       "      <td>3.5</td>\n",
       "      <td>7.9</td>\n",
       "      <td>0.4</td>\n",
       "      <td>3.4</td>\n",
       "      <td>0.2</td>\n",
       "      <td>not fire</td>\n",
       "      <td>1</td>\n",
       "    </tr>\n",
       "    <tr>\n",
       "      <th>242</th>\n",
       "      <td>29</td>\n",
       "      <td>9</td>\n",
       "      <td>2012</td>\n",
       "      <td>24</td>\n",
       "      <td>54</td>\n",
       "      <td>18</td>\n",
       "      <td>0.1</td>\n",
       "      <td>79.7</td>\n",
       "      <td>4.3</td>\n",
       "      <td>15.2</td>\n",
       "      <td>1.7</td>\n",
       "      <td>5.1</td>\n",
       "      <td>0.7</td>\n",
       "      <td>not fire</td>\n",
       "      <td>1</td>\n",
       "    </tr>\n",
       "    <tr>\n",
       "      <th>243</th>\n",
       "      <td>30</td>\n",
       "      <td>9</td>\n",
       "      <td>2012</td>\n",
       "      <td>24</td>\n",
       "      <td>64</td>\n",
       "      <td>15</td>\n",
       "      <td>0.2</td>\n",
       "      <td>67.3</td>\n",
       "      <td>3.8</td>\n",
       "      <td>16.5</td>\n",
       "      <td>1.2</td>\n",
       "      <td>4.8</td>\n",
       "      <td>0.5</td>\n",
       "      <td>not fire</td>\n",
       "      <td>1</td>\n",
       "    </tr>\n",
       "  </tbody>\n",
       "</table>\n",
       "<p>244 rows × 15 columns</p>\n",
       "</div>"
      ],
      "text/plain": [
       "    day month  year Temperature  RH  Ws Rain   FFMC  DMC    DC  ISI   BUI  \\\n",
       "0     1     6  2012          29  57  18     0  65.7  3.4   7.6  1.3   3.4   \n",
       "1     2     6  2012          29  61  13   1.3  64.4  4.1   7.6    1   3.9   \n",
       "2     3     6  2012          26  82  22  13.1  47.1  2.5   7.1  0.3   2.7   \n",
       "3     4     6  2012          25  89  13   2.5  28.6  1.3   6.9    0   1.7   \n",
       "4     5     6  2012          27  77  16     0  64.8    3  14.2  1.2   3.9   \n",
       "..   ..   ...   ...         ...  ..  ..   ...   ...  ...   ...  ...   ...   \n",
       "239  26     9  2012          30  65  14     0  85.4   16  44.5  4.5  16.9   \n",
       "240  27     9  2012          28  87  15   4.4  41.1  6.5     8  0.1   6.2   \n",
       "241  28     9  2012          27  87  29   0.5  45.9  3.5   7.9  0.4   3.4   \n",
       "242  29     9  2012          24  54  18   0.1  79.7  4.3  15.2  1.7   5.1   \n",
       "243  30     9  2012          24  64  15   0.2  67.3  3.8  16.5  1.2   4.8   \n",
       "\n",
       "     FWI     Classes    Region  \n",
       "0    0.5   not fire          0  \n",
       "1    0.4   not fire          0  \n",
       "2    0.1   not fire          0  \n",
       "3      0   not fire          0  \n",
       "4    0.5   not fire          0  \n",
       "..   ...           ...     ...  \n",
       "239  6.5       fire          1  \n",
       "240    0   not fire          1  \n",
       "241  0.2   not fire          1  \n",
       "242  0.7   not fire          1  \n",
       "243  0.5  not fire           1  \n",
       "\n",
       "[244 rows x 15 columns]"
      ]
     },
     "execution_count": 520,
     "metadata": {},
     "output_type": "execute_result"
    }
   ],
   "source": [
    "df.dropna().reset_index(drop=True)"
   ]
  },
  {
   "cell_type": "code",
   "execution_count": 521,
   "id": "c6d077d4",
   "metadata": {},
   "outputs": [
    {
     "data": {
      "application/vnd.microsoft.datawrangler.viewer.v0+json": {
       "columns": [
        {
         "name": "index",
         "rawType": "int64",
         "type": "integer"
        },
        {
         "name": "day",
         "rawType": "object",
         "type": "string"
        },
        {
         "name": "month",
         "rawType": "object",
         "type": "string"
        },
        {
         "name": "year",
         "rawType": "object",
         "type": "string"
        },
        {
         "name": "Temperature",
         "rawType": "object",
         "type": "string"
        },
        {
         "name": " RH",
         "rawType": "object",
         "type": "string"
        },
        {
         "name": " Ws",
         "rawType": "object",
         "type": "string"
        },
        {
         "name": "Rain ",
         "rawType": "object",
         "type": "string"
        },
        {
         "name": "FFMC",
         "rawType": "object",
         "type": "string"
        },
        {
         "name": "DMC",
         "rawType": "object",
         "type": "string"
        },
        {
         "name": "DC",
         "rawType": "object",
         "type": "string"
        },
        {
         "name": "ISI",
         "rawType": "object",
         "type": "string"
        },
        {
         "name": "BUI",
         "rawType": "object",
         "type": "string"
        },
        {
         "name": "FWI",
         "rawType": "object",
         "type": "string"
        },
        {
         "name": "Classes  ",
         "rawType": "object",
         "type": "string"
        },
        {
         "name": "Region",
         "rawType": "int64",
         "type": "integer"
        }
       ],
       "ref": "78c1b837-b819-4160-9a4c-c62653e028ef",
       "rows": [
        [
         "0",
         "1",
         "6",
         "2012",
         "29",
         "57",
         "18",
         "0",
         "65.7",
         "3.4",
         "7.6",
         "1.3",
         "3.4",
         "0.5",
         "not fire   ",
         "0"
        ],
        [
         "1",
         "2",
         "6",
         "2012",
         "29",
         "61",
         "13",
         "1.3",
         "64.4",
         "4.1",
         "7.6",
         "1",
         "3.9",
         "0.4",
         "not fire   ",
         "0"
        ],
        [
         "2",
         "3",
         "6",
         "2012",
         "26",
         "82",
         "22",
         "13.1",
         "47.1",
         "2.5",
         "7.1",
         "0.3",
         "2.7",
         "0.1",
         "not fire   ",
         "0"
        ],
        [
         "3",
         "4",
         "6",
         "2012",
         "25",
         "89",
         "13",
         "2.5",
         "28.6",
         "1.3",
         "6.9",
         "0",
         "1.7",
         "0",
         "not fire   ",
         "0"
        ],
        [
         "4",
         "5",
         "6",
         "2012",
         "27",
         "77",
         "16",
         "0",
         "64.8",
         "3",
         "14.2",
         "1.2",
         "3.9",
         "0.5",
         "not fire   ",
         "0"
        ]
       ],
       "shape": {
        "columns": 15,
        "rows": 5
       }
      },
      "text/html": [
       "<div>\n",
       "<style scoped>\n",
       "    .dataframe tbody tr th:only-of-type {\n",
       "        vertical-align: middle;\n",
       "    }\n",
       "\n",
       "    .dataframe tbody tr th {\n",
       "        vertical-align: top;\n",
       "    }\n",
       "\n",
       "    .dataframe thead th {\n",
       "        text-align: right;\n",
       "    }\n",
       "</style>\n",
       "<table border=\"1\" class=\"dataframe\">\n",
       "  <thead>\n",
       "    <tr style=\"text-align: right;\">\n",
       "      <th></th>\n",
       "      <th>day</th>\n",
       "      <th>month</th>\n",
       "      <th>year</th>\n",
       "      <th>Temperature</th>\n",
       "      <th>RH</th>\n",
       "      <th>Ws</th>\n",
       "      <th>Rain</th>\n",
       "      <th>FFMC</th>\n",
       "      <th>DMC</th>\n",
       "      <th>DC</th>\n",
       "      <th>ISI</th>\n",
       "      <th>BUI</th>\n",
       "      <th>FWI</th>\n",
       "      <th>Classes</th>\n",
       "      <th>Region</th>\n",
       "    </tr>\n",
       "  </thead>\n",
       "  <tbody>\n",
       "    <tr>\n",
       "      <th>0</th>\n",
       "      <td>1</td>\n",
       "      <td>6</td>\n",
       "      <td>2012</td>\n",
       "      <td>29</td>\n",
       "      <td>57</td>\n",
       "      <td>18</td>\n",
       "      <td>0</td>\n",
       "      <td>65.7</td>\n",
       "      <td>3.4</td>\n",
       "      <td>7.6</td>\n",
       "      <td>1.3</td>\n",
       "      <td>3.4</td>\n",
       "      <td>0.5</td>\n",
       "      <td>not fire</td>\n",
       "      <td>0</td>\n",
       "    </tr>\n",
       "    <tr>\n",
       "      <th>1</th>\n",
       "      <td>2</td>\n",
       "      <td>6</td>\n",
       "      <td>2012</td>\n",
       "      <td>29</td>\n",
       "      <td>61</td>\n",
       "      <td>13</td>\n",
       "      <td>1.3</td>\n",
       "      <td>64.4</td>\n",
       "      <td>4.1</td>\n",
       "      <td>7.6</td>\n",
       "      <td>1</td>\n",
       "      <td>3.9</td>\n",
       "      <td>0.4</td>\n",
       "      <td>not fire</td>\n",
       "      <td>0</td>\n",
       "    </tr>\n",
       "    <tr>\n",
       "      <th>2</th>\n",
       "      <td>3</td>\n",
       "      <td>6</td>\n",
       "      <td>2012</td>\n",
       "      <td>26</td>\n",
       "      <td>82</td>\n",
       "      <td>22</td>\n",
       "      <td>13.1</td>\n",
       "      <td>47.1</td>\n",
       "      <td>2.5</td>\n",
       "      <td>7.1</td>\n",
       "      <td>0.3</td>\n",
       "      <td>2.7</td>\n",
       "      <td>0.1</td>\n",
       "      <td>not fire</td>\n",
       "      <td>0</td>\n",
       "    </tr>\n",
       "    <tr>\n",
       "      <th>3</th>\n",
       "      <td>4</td>\n",
       "      <td>6</td>\n",
       "      <td>2012</td>\n",
       "      <td>25</td>\n",
       "      <td>89</td>\n",
       "      <td>13</td>\n",
       "      <td>2.5</td>\n",
       "      <td>28.6</td>\n",
       "      <td>1.3</td>\n",
       "      <td>6.9</td>\n",
       "      <td>0</td>\n",
       "      <td>1.7</td>\n",
       "      <td>0</td>\n",
       "      <td>not fire</td>\n",
       "      <td>0</td>\n",
       "    </tr>\n",
       "    <tr>\n",
       "      <th>4</th>\n",
       "      <td>5</td>\n",
       "      <td>6</td>\n",
       "      <td>2012</td>\n",
       "      <td>27</td>\n",
       "      <td>77</td>\n",
       "      <td>16</td>\n",
       "      <td>0</td>\n",
       "      <td>64.8</td>\n",
       "      <td>3</td>\n",
       "      <td>14.2</td>\n",
       "      <td>1.2</td>\n",
       "      <td>3.9</td>\n",
       "      <td>0.5</td>\n",
       "      <td>not fire</td>\n",
       "      <td>0</td>\n",
       "    </tr>\n",
       "  </tbody>\n",
       "</table>\n",
       "</div>"
      ],
      "text/plain": [
       "  day month  year Temperature  RH  Ws Rain   FFMC  DMC    DC  ISI  BUI  FWI  \\\n",
       "0   1     6  2012          29  57  18     0  65.7  3.4   7.6  1.3  3.4  0.5   \n",
       "1   2     6  2012          29  61  13   1.3  64.4  4.1   7.6    1  3.9  0.4   \n",
       "2   3     6  2012          26  82  22  13.1  47.1  2.5   7.1  0.3  2.7  0.1   \n",
       "3   4     6  2012          25  89  13   2.5  28.6  1.3   6.9    0  1.7    0   \n",
       "4   5     6  2012          27  77  16     0  64.8    3  14.2  1.2  3.9  0.5   \n",
       "\n",
       "     Classes    Region  \n",
       "0  not fire          0  \n",
       "1  not fire          0  \n",
       "2  not fire          0  \n",
       "3  not fire          0  \n",
       "4  not fire          0  "
      ]
     },
     "execution_count": 521,
     "metadata": {},
     "output_type": "execute_result"
    }
   ],
   "source": [
    "df.head()"
   ]
  },
  {
   "cell_type": "code",
   "execution_count": 522,
   "id": "55a2fd36",
   "metadata": {},
   "outputs": [
    {
     "data": {
      "application/vnd.microsoft.datawrangler.viewer.v0+json": {
       "columns": [
        {
         "name": "index",
         "rawType": "object",
         "type": "string"
        },
        {
         "name": "0",
         "rawType": "int64",
         "type": "integer"
        }
       ],
       "ref": "70c7efeb-bce1-4391-91e2-f2037f76be4a",
       "rows": [
        [
         "day",
         "0"
        ],
        [
         "month",
         "0"
        ],
        [
         "year",
         "0"
        ],
        [
         "Temperature",
         "0"
        ],
        [
         " RH",
         "0"
        ],
        [
         " Ws",
         "0"
        ],
        [
         "Rain ",
         "0"
        ],
        [
         "FFMC",
         "0"
        ],
        [
         "DMC",
         "0"
        ],
        [
         "DC",
         "0"
        ],
        [
         "ISI",
         "0"
        ],
        [
         "BUI",
         "0"
        ],
        [
         "FWI",
         "0"
        ],
        [
         "Classes  ",
         "1"
        ],
        [
         "Region",
         "0"
        ]
       ],
       "shape": {
        "columns": 1,
        "rows": 15
       }
      },
      "text/plain": [
       "day            0\n",
       "month          0\n",
       "year           0\n",
       "Temperature    0\n",
       " RH            0\n",
       " Ws            0\n",
       "Rain           0\n",
       "FFMC           0\n",
       "DMC            0\n",
       "DC             0\n",
       "ISI            0\n",
       "BUI            0\n",
       "FWI            0\n",
       "Classes        1\n",
       "Region         0\n",
       "dtype: int64"
      ]
     },
     "execution_count": 522,
     "metadata": {},
     "output_type": "execute_result"
    }
   ],
   "source": [
    "df.isnull().sum()"
   ]
  },
  {
   "cell_type": "code",
   "execution_count": 523,
   "id": "da444d98",
   "metadata": {},
   "outputs": [
    {
     "data": {
      "application/vnd.microsoft.datawrangler.viewer.v0+json": {
       "columns": [
        {
         "name": "index",
         "rawType": "int64",
         "type": "integer"
        },
        {
         "name": "day",
         "rawType": "object",
         "type": "string"
        },
        {
         "name": "month",
         "rawType": "object",
         "type": "string"
        },
        {
         "name": "year",
         "rawType": "object",
         "type": "string"
        },
        {
         "name": "Temperature",
         "rawType": "object",
         "type": "string"
        },
        {
         "name": " RH",
         "rawType": "object",
         "type": "string"
        },
        {
         "name": " Ws",
         "rawType": "object",
         "type": "string"
        },
        {
         "name": "Rain ",
         "rawType": "object",
         "type": "string"
        },
        {
         "name": "FFMC",
         "rawType": "object",
         "type": "string"
        },
        {
         "name": "DMC",
         "rawType": "object",
         "type": "string"
        },
        {
         "name": "DC",
         "rawType": "object",
         "type": "string"
        },
        {
         "name": "ISI",
         "rawType": "object",
         "type": "string"
        },
        {
         "name": "BUI",
         "rawType": "object",
         "type": "string"
        },
        {
         "name": "FWI",
         "rawType": "object",
         "type": "string"
        },
        {
         "name": "Classes  ",
         "rawType": "object",
         "type": "string"
        },
        {
         "name": "Region",
         "rawType": "int64",
         "type": "integer"
        }
       ],
       "ref": "544cf8d1-3b9a-43ea-ad36-e24baa165d09",
       "rows": [
        [
         "122",
         "day",
         "month",
         "year",
         "Temperature",
         " RH",
         " Ws",
         "Rain ",
         "FFMC",
         "DMC",
         "DC",
         "ISI",
         "BUI",
         "FWI",
         "Classes  ",
         "0"
        ]
       ],
       "shape": {
        "columns": 15,
        "rows": 1
       }
      },
      "text/html": [
       "<div>\n",
       "<style scoped>\n",
       "    .dataframe tbody tr th:only-of-type {\n",
       "        vertical-align: middle;\n",
       "    }\n",
       "\n",
       "    .dataframe tbody tr th {\n",
       "        vertical-align: top;\n",
       "    }\n",
       "\n",
       "    .dataframe thead th {\n",
       "        text-align: right;\n",
       "    }\n",
       "</style>\n",
       "<table border=\"1\" class=\"dataframe\">\n",
       "  <thead>\n",
       "    <tr style=\"text-align: right;\">\n",
       "      <th></th>\n",
       "      <th>day</th>\n",
       "      <th>month</th>\n",
       "      <th>year</th>\n",
       "      <th>Temperature</th>\n",
       "      <th>RH</th>\n",
       "      <th>Ws</th>\n",
       "      <th>Rain</th>\n",
       "      <th>FFMC</th>\n",
       "      <th>DMC</th>\n",
       "      <th>DC</th>\n",
       "      <th>ISI</th>\n",
       "      <th>BUI</th>\n",
       "      <th>FWI</th>\n",
       "      <th>Classes</th>\n",
       "      <th>Region</th>\n",
       "    </tr>\n",
       "  </thead>\n",
       "  <tbody>\n",
       "    <tr>\n",
       "      <th>122</th>\n",
       "      <td>day</td>\n",
       "      <td>month</td>\n",
       "      <td>year</td>\n",
       "      <td>Temperature</td>\n",
       "      <td>RH</td>\n",
       "      <td>Ws</td>\n",
       "      <td>Rain</td>\n",
       "      <td>FFMC</td>\n",
       "      <td>DMC</td>\n",
       "      <td>DC</td>\n",
       "      <td>ISI</td>\n",
       "      <td>BUI</td>\n",
       "      <td>FWI</td>\n",
       "      <td>Classes</td>\n",
       "      <td>0</td>\n",
       "    </tr>\n",
       "  </tbody>\n",
       "</table>\n",
       "</div>"
      ],
      "text/plain": [
       "     day  month  year  Temperature   RH   Ws  Rain   FFMC  DMC  DC  ISI  BUI  \\\n",
       "122  day  month  year  Temperature   RH   Ws  Rain   FFMC  DMC  DC  ISI  BUI   \n",
       "\n",
       "     FWI  Classes    Region  \n",
       "122  FWI  Classes         0  "
      ]
     },
     "execution_count": 523,
     "metadata": {},
     "output_type": "execute_result"
    }
   ],
   "source": [
    "df.iloc[[122]]"
   ]
  },
  {
   "cell_type": "code",
   "execution_count": 524,
   "id": "021cc2d1",
   "metadata": {},
   "outputs": [],
   "source": [
    "df = df.drop(122).reset_index(drop=True)"
   ]
  },
  {
   "cell_type": "code",
   "execution_count": 525,
   "id": "2776b404",
   "metadata": {},
   "outputs": [
    {
     "data": {
      "text/plain": [
       "Index(['day', 'month', 'year', 'Temperature', ' RH', ' Ws', 'Rain ', 'FFMC',\n",
       "       'DMC', 'DC', 'ISI', 'BUI', 'FWI', 'Classes  ', 'Region'],\n",
       "      dtype='object')"
      ]
     },
     "execution_count": 525,
     "metadata": {},
     "output_type": "execute_result"
    }
   ],
   "source": [
    "df.columns"
   ]
  },
  {
   "cell_type": "code",
   "execution_count": 526,
   "id": "035703a5",
   "metadata": {},
   "outputs": [],
   "source": [
    "## fix spaces in column name\n",
    "df.columns = df.columns.str.strip()"
   ]
  },
  {
   "cell_type": "code",
   "execution_count": 527,
   "id": "25bf769f",
   "metadata": {},
   "outputs": [
    {
     "data": {
      "text/plain": [
       "Index(['day', 'month', 'year', 'Temperature', 'RH', 'Ws', 'Rain', 'FFMC',\n",
       "       'DMC', 'DC', 'ISI', 'BUI', 'FWI', 'Classes', 'Region'],\n",
       "      dtype='object')"
      ]
     },
     "execution_count": 527,
     "metadata": {},
     "output_type": "execute_result"
    }
   ],
   "source": [
    "df.columns"
   ]
  },
  {
   "cell_type": "code",
   "execution_count": 528,
   "id": "c2900e23",
   "metadata": {},
   "outputs": [
    {
     "name": "stdout",
     "output_type": "stream",
     "text": [
      "<class 'pandas.core.frame.DataFrame'>\n",
      "RangeIndex: 244 entries, 0 to 243\n",
      "Data columns (total 15 columns):\n",
      " #   Column       Non-Null Count  Dtype \n",
      "---  ------       --------------  ----- \n",
      " 0   day          244 non-null    object\n",
      " 1   month        244 non-null    object\n",
      " 2   year         244 non-null    object\n",
      " 3   Temperature  244 non-null    object\n",
      " 4   RH           244 non-null    object\n",
      " 5   Ws           244 non-null    object\n",
      " 6   Rain         244 non-null    object\n",
      " 7   FFMC         244 non-null    object\n",
      " 8   DMC          244 non-null    object\n",
      " 9   DC           244 non-null    object\n",
      " 10  ISI          244 non-null    object\n",
      " 11  BUI          244 non-null    object\n",
      " 12  FWI          244 non-null    object\n",
      " 13  Classes      243 non-null    object\n",
      " 14  Region       244 non-null    int64 \n",
      "dtypes: int64(1), object(14)\n",
      "memory usage: 28.7+ KB\n"
     ]
    }
   ],
   "source": [
    "df.info()"
   ]
  },
  {
   "cell_type": "code",
   "execution_count": 529,
   "id": "25fc6065",
   "metadata": {},
   "outputs": [
    {
     "data": {
      "text/plain": [
       "Index(['day', 'month', 'year', 'Temperature', 'RH', 'Ws', 'Rain', 'FFMC',\n",
       "       'DMC', 'DC', 'ISI', 'BUI', 'FWI', 'Classes', 'Region'],\n",
       "      dtype='object')"
      ]
     },
     "execution_count": 529,
     "metadata": {},
     "output_type": "execute_result"
    }
   ],
   "source": [
    "df.columns"
   ]
  },
  {
   "cell_type": "code",
   "execution_count": 530,
   "id": "39b8bfbd",
   "metadata": {},
   "outputs": [],
   "source": [
    "df = df.drop(165).reset_index(drop=True)"
   ]
  },
  {
   "cell_type": "code",
   "execution_count": 531,
   "id": "992fc71b",
   "metadata": {},
   "outputs": [
    {
     "data": {
      "text/plain": [
       "Index(['day', 'month', 'year', 'Temperature', 'RH', 'Ws', 'Rain', 'FFMC',\n",
       "       'DMC', 'DC', 'ISI', 'BUI', 'FWI', 'Classes', 'Region'],\n",
       "      dtype='object')"
      ]
     },
     "execution_count": 531,
     "metadata": {},
     "output_type": "execute_result"
    }
   ],
   "source": [
    "df.columns"
   ]
  },
  {
   "cell_type": "code",
   "execution_count": 532,
   "id": "fb81004d",
   "metadata": {},
   "outputs": [],
   "source": [
    "df[['day', 'month', 'year', 'Temperature', 'RH', 'Ws']] = df[['day', 'month', 'year', 'Temperature', 'RH', 'Ws']].astype(int)"
   ]
  },
  {
   "cell_type": "code",
   "execution_count": 533,
   "id": "b1bba3ea",
   "metadata": {},
   "outputs": [
    {
     "name": "stdout",
     "output_type": "stream",
     "text": [
      "<class 'pandas.core.frame.DataFrame'>\n",
      "RangeIndex: 243 entries, 0 to 242\n",
      "Data columns (total 15 columns):\n",
      " #   Column       Non-Null Count  Dtype \n",
      "---  ------       --------------  ----- \n",
      " 0   day          243 non-null    int64 \n",
      " 1   month        243 non-null    int64 \n",
      " 2   year         243 non-null    int64 \n",
      " 3   Temperature  243 non-null    int64 \n",
      " 4   RH           243 non-null    int64 \n",
      " 5   Ws           243 non-null    int64 \n",
      " 6   Rain         243 non-null    object\n",
      " 7   FFMC         243 non-null    object\n",
      " 8   DMC          243 non-null    object\n",
      " 9   DC           243 non-null    object\n",
      " 10  ISI          243 non-null    object\n",
      " 11  BUI          243 non-null    object\n",
      " 12  FWI          243 non-null    object\n",
      " 13  Classes      243 non-null    object\n",
      " 14  Region       243 non-null    int64 \n",
      "dtypes: int64(7), object(8)\n",
      "memory usage: 28.6+ KB\n"
     ]
    }
   ],
   "source": [
    "df.info()"
   ]
  },
  {
   "cell_type": "markdown",
   "id": "d658c87f",
   "metadata": {},
   "source": [
    "### Changing the other columns to float datatype\n"
   ]
  },
  {
   "cell_type": "code",
   "execution_count": 534,
   "id": "0a4ea98c",
   "metadata": {},
   "outputs": [],
   "source": [
    "objects = [features for features in df.columns if df[features].dtypes == 'O']"
   ]
  },
  {
   "cell_type": "code",
   "execution_count": 535,
   "id": "d6d81760",
   "metadata": {},
   "outputs": [],
   "source": [
    "for i in objects :\n",
    "    if i != 'Classes':\n",
    "        df[i] = df[i].astype(float)"
   ]
  },
  {
   "cell_type": "code",
   "execution_count": 536,
   "id": "89e2b42d",
   "metadata": {},
   "outputs": [
    {
     "name": "stdout",
     "output_type": "stream",
     "text": [
      "<class 'pandas.core.frame.DataFrame'>\n",
      "RangeIndex: 243 entries, 0 to 242\n",
      "Data columns (total 15 columns):\n",
      " #   Column       Non-Null Count  Dtype  \n",
      "---  ------       --------------  -----  \n",
      " 0   day          243 non-null    int64  \n",
      " 1   month        243 non-null    int64  \n",
      " 2   year         243 non-null    int64  \n",
      " 3   Temperature  243 non-null    int64  \n",
      " 4   RH           243 non-null    int64  \n",
      " 5   Ws           243 non-null    int64  \n",
      " 6   Rain         243 non-null    float64\n",
      " 7   FFMC         243 non-null    float64\n",
      " 8   DMC          243 non-null    float64\n",
      " 9   DC           243 non-null    float64\n",
      " 10  ISI          243 non-null    float64\n",
      " 11  BUI          243 non-null    float64\n",
      " 12  FWI          243 non-null    float64\n",
      " 13  Classes      243 non-null    object \n",
      " 14  Region       243 non-null    int64  \n",
      "dtypes: float64(7), int64(7), object(1)\n",
      "memory usage: 28.6+ KB\n"
     ]
    }
   ],
   "source": [
    "df.info()"
   ]
  },
  {
   "cell_type": "code",
   "execution_count": 537,
   "id": "e729db1b",
   "metadata": {},
   "outputs": [
    {
     "data": {
      "text/plain": [
       "<bound method NDFrame.describe of      day  month  year  Temperature  RH  Ws  Rain  FFMC   DMC    DC  ISI   BUI  \\\n",
       "0      1      6  2012           29  57  18   0.0  65.7   3.4   7.6  1.3   3.4   \n",
       "1      2      6  2012           29  61  13   1.3  64.4   4.1   7.6  1.0   3.9   \n",
       "2      3      6  2012           26  82  22  13.1  47.1   2.5   7.1  0.3   2.7   \n",
       "3      4      6  2012           25  89  13   2.5  28.6   1.3   6.9  0.0   1.7   \n",
       "4      5      6  2012           27  77  16   0.0  64.8   3.0  14.2  1.2   3.9   \n",
       "..   ...    ...   ...          ...  ..  ..   ...   ...   ...   ...  ...   ...   \n",
       "238   26      9  2012           30  65  14   0.0  85.4  16.0  44.5  4.5  16.9   \n",
       "239   27      9  2012           28  87  15   4.4  41.1   6.5   8.0  0.1   6.2   \n",
       "240   28      9  2012           27  87  29   0.5  45.9   3.5   7.9  0.4   3.4   \n",
       "241   29      9  2012           24  54  18   0.1  79.7   4.3  15.2  1.7   5.1   \n",
       "242   30      9  2012           24  64  15   0.2  67.3   3.8  16.5  1.2   4.8   \n",
       "\n",
       "     FWI       Classes  Region  \n",
       "0    0.5   not fire          0  \n",
       "1    0.4   not fire          0  \n",
       "2    0.1   not fire          0  \n",
       "3    0.0   not fire          0  \n",
       "4    0.5   not fire          0  \n",
       "..   ...           ...     ...  \n",
       "238  6.5       fire          1  \n",
       "239  0.0   not fire          1  \n",
       "240  0.2   not fire          1  \n",
       "241  0.7   not fire          1  \n",
       "242  0.5  not fire           1  \n",
       "\n",
       "[243 rows x 15 columns]>"
      ]
     },
     "execution_count": 537,
     "metadata": {},
     "output_type": "execute_result"
    }
   ],
   "source": [
    "df.describe"
   ]
  },
  {
   "cell_type": "code",
   "execution_count": 538,
   "id": "33c6d7d5",
   "metadata": {},
   "outputs": [],
   "source": [
    "df.to_csv('Algerian_forest_fires_cleaned_dataset.csv', index=False)"
   ]
  },
  {
   "cell_type": "markdown",
   "id": "ca27c914",
   "metadata": {},
   "source": [
    "### Exploratory Data Analysis"
   ]
  },
  {
   "cell_type": "code",
   "execution_count": 539,
   "id": "03209943",
   "metadata": {},
   "outputs": [],
   "source": [
    "df_copy = df.drop(columns=['day', 'month', 'year'], axis=1)"
   ]
  },
  {
   "cell_type": "code",
   "execution_count": 540,
   "id": "e37b6302",
   "metadata": {},
   "outputs": [
    {
     "data": {
      "application/vnd.microsoft.datawrangler.viewer.v0+json": {
       "columns": [
        {
         "name": "index",
         "rawType": "int64",
         "type": "integer"
        },
        {
         "name": "Temperature",
         "rawType": "int64",
         "type": "integer"
        },
        {
         "name": "RH",
         "rawType": "int64",
         "type": "integer"
        },
        {
         "name": "Ws",
         "rawType": "int64",
         "type": "integer"
        },
        {
         "name": "Rain",
         "rawType": "float64",
         "type": "float"
        },
        {
         "name": "FFMC",
         "rawType": "float64",
         "type": "float"
        },
        {
         "name": "DMC",
         "rawType": "float64",
         "type": "float"
        },
        {
         "name": "DC",
         "rawType": "float64",
         "type": "float"
        },
        {
         "name": "ISI",
         "rawType": "float64",
         "type": "float"
        },
        {
         "name": "BUI",
         "rawType": "float64",
         "type": "float"
        },
        {
         "name": "FWI",
         "rawType": "float64",
         "type": "float"
        },
        {
         "name": "Classes",
         "rawType": "object",
         "type": "string"
        },
        {
         "name": "Region",
         "rawType": "int64",
         "type": "integer"
        }
       ],
       "ref": "50190a2a-1334-4a8d-8fd5-fd4a03fd0368",
       "rows": [
        [
         "0",
         "29",
         "57",
         "18",
         "0.0",
         "65.7",
         "3.4",
         "7.6",
         "1.3",
         "3.4",
         "0.5",
         "not fire   ",
         "0"
        ],
        [
         "1",
         "29",
         "61",
         "13",
         "1.3",
         "64.4",
         "4.1",
         "7.6",
         "1.0",
         "3.9",
         "0.4",
         "not fire   ",
         "0"
        ],
        [
         "2",
         "26",
         "82",
         "22",
         "13.1",
         "47.1",
         "2.5",
         "7.1",
         "0.3",
         "2.7",
         "0.1",
         "not fire   ",
         "0"
        ],
        [
         "3",
         "25",
         "89",
         "13",
         "2.5",
         "28.6",
         "1.3",
         "6.9",
         "0.0",
         "1.7",
         "0.0",
         "not fire   ",
         "0"
        ],
        [
         "4",
         "27",
         "77",
         "16",
         "0.0",
         "64.8",
         "3.0",
         "14.2",
         "1.2",
         "3.9",
         "0.5",
         "not fire   ",
         "0"
        ]
       ],
       "shape": {
        "columns": 12,
        "rows": 5
       }
      },
      "text/html": [
       "<div>\n",
       "<style scoped>\n",
       "    .dataframe tbody tr th:only-of-type {\n",
       "        vertical-align: middle;\n",
       "    }\n",
       "\n",
       "    .dataframe tbody tr th {\n",
       "        vertical-align: top;\n",
       "    }\n",
       "\n",
       "    .dataframe thead th {\n",
       "        text-align: right;\n",
       "    }\n",
       "</style>\n",
       "<table border=\"1\" class=\"dataframe\">\n",
       "  <thead>\n",
       "    <tr style=\"text-align: right;\">\n",
       "      <th></th>\n",
       "      <th>Temperature</th>\n",
       "      <th>RH</th>\n",
       "      <th>Ws</th>\n",
       "      <th>Rain</th>\n",
       "      <th>FFMC</th>\n",
       "      <th>DMC</th>\n",
       "      <th>DC</th>\n",
       "      <th>ISI</th>\n",
       "      <th>BUI</th>\n",
       "      <th>FWI</th>\n",
       "      <th>Classes</th>\n",
       "      <th>Region</th>\n",
       "    </tr>\n",
       "  </thead>\n",
       "  <tbody>\n",
       "    <tr>\n",
       "      <th>0</th>\n",
       "      <td>29</td>\n",
       "      <td>57</td>\n",
       "      <td>18</td>\n",
       "      <td>0.0</td>\n",
       "      <td>65.7</td>\n",
       "      <td>3.4</td>\n",
       "      <td>7.6</td>\n",
       "      <td>1.3</td>\n",
       "      <td>3.4</td>\n",
       "      <td>0.5</td>\n",
       "      <td>not fire</td>\n",
       "      <td>0</td>\n",
       "    </tr>\n",
       "    <tr>\n",
       "      <th>1</th>\n",
       "      <td>29</td>\n",
       "      <td>61</td>\n",
       "      <td>13</td>\n",
       "      <td>1.3</td>\n",
       "      <td>64.4</td>\n",
       "      <td>4.1</td>\n",
       "      <td>7.6</td>\n",
       "      <td>1.0</td>\n",
       "      <td>3.9</td>\n",
       "      <td>0.4</td>\n",
       "      <td>not fire</td>\n",
       "      <td>0</td>\n",
       "    </tr>\n",
       "    <tr>\n",
       "      <th>2</th>\n",
       "      <td>26</td>\n",
       "      <td>82</td>\n",
       "      <td>22</td>\n",
       "      <td>13.1</td>\n",
       "      <td>47.1</td>\n",
       "      <td>2.5</td>\n",
       "      <td>7.1</td>\n",
       "      <td>0.3</td>\n",
       "      <td>2.7</td>\n",
       "      <td>0.1</td>\n",
       "      <td>not fire</td>\n",
       "      <td>0</td>\n",
       "    </tr>\n",
       "    <tr>\n",
       "      <th>3</th>\n",
       "      <td>25</td>\n",
       "      <td>89</td>\n",
       "      <td>13</td>\n",
       "      <td>2.5</td>\n",
       "      <td>28.6</td>\n",
       "      <td>1.3</td>\n",
       "      <td>6.9</td>\n",
       "      <td>0.0</td>\n",
       "      <td>1.7</td>\n",
       "      <td>0.0</td>\n",
       "      <td>not fire</td>\n",
       "      <td>0</td>\n",
       "    </tr>\n",
       "    <tr>\n",
       "      <th>4</th>\n",
       "      <td>27</td>\n",
       "      <td>77</td>\n",
       "      <td>16</td>\n",
       "      <td>0.0</td>\n",
       "      <td>64.8</td>\n",
       "      <td>3.0</td>\n",
       "      <td>14.2</td>\n",
       "      <td>1.2</td>\n",
       "      <td>3.9</td>\n",
       "      <td>0.5</td>\n",
       "      <td>not fire</td>\n",
       "      <td>0</td>\n",
       "    </tr>\n",
       "  </tbody>\n",
       "</table>\n",
       "</div>"
      ],
      "text/plain": [
       "   Temperature  RH  Ws  Rain  FFMC  DMC    DC  ISI  BUI  FWI      Classes  \\\n",
       "0           29  57  18   0.0  65.7  3.4   7.6  1.3  3.4  0.5  not fire      \n",
       "1           29  61  13   1.3  64.4  4.1   7.6  1.0  3.9  0.4  not fire      \n",
       "2           26  82  22  13.1  47.1  2.5   7.1  0.3  2.7  0.1  not fire      \n",
       "3           25  89  13   2.5  28.6  1.3   6.9  0.0  1.7  0.0  not fire      \n",
       "4           27  77  16   0.0  64.8  3.0  14.2  1.2  3.9  0.5  not fire      \n",
       "\n",
       "   Region  \n",
       "0       0  \n",
       "1       0  \n",
       "2       0  \n",
       "3       0  \n",
       "4       0  "
      ]
     },
     "execution_count": 540,
     "metadata": {},
     "output_type": "execute_result"
    }
   ],
   "source": [
    "df_copy.head()"
   ]
  },
  {
   "cell_type": "code",
   "execution_count": 541,
   "id": "4c23d65a",
   "metadata": {},
   "outputs": [
    {
     "data": {
      "application/vnd.microsoft.datawrangler.viewer.v0+json": {
       "columns": [
        {
         "name": "Classes",
         "rawType": "object",
         "type": "string"
        },
        {
         "name": "count",
         "rawType": "int64",
         "type": "integer"
        }
       ],
       "ref": "4449ac80-dcf2-43c1-b12c-be3bb1500455",
       "rows": [
        [
         "fire   ",
         "131"
        ],
        [
         "not fire   ",
         "101"
        ],
        [
         "fire",
         "4"
        ],
        [
         "fire ",
         "2"
        ],
        [
         "not fire",
         "2"
        ],
        [
         "not fire ",
         "1"
        ],
        [
         "not fire     ",
         "1"
        ],
        [
         "not fire    ",
         "1"
        ]
       ],
       "shape": {
        "columns": 1,
        "rows": 8
       }
      },
      "text/plain": [
       "Classes\n",
       "fire             131\n",
       "not fire         101\n",
       "fire               4\n",
       "fire               2\n",
       "not fire           2\n",
       "not fire           1\n",
       "not fire           1\n",
       "not fire           1\n",
       "Name: count, dtype: int64"
      ]
     },
     "execution_count": 541,
     "metadata": {},
     "output_type": "execute_result"
    }
   ],
   "source": [
    "df_copy['Classes'].value_counts()"
   ]
  },
  {
   "cell_type": "code",
   "execution_count": 542,
   "id": "2820068d",
   "metadata": {},
   "outputs": [],
   "source": [
    "df_copy['Classes'] = np.where( df_copy['Classes'].str.contains('not fire'), 0, 1)"
   ]
  },
  {
   "cell_type": "code",
   "execution_count": 543,
   "id": "7d42eaf7",
   "metadata": {},
   "outputs": [
    {
     "data": {
      "application/vnd.microsoft.datawrangler.viewer.v0+json": {
       "columns": [
        {
         "name": "index",
         "rawType": "int64",
         "type": "integer"
        },
        {
         "name": "Temperature",
         "rawType": "int64",
         "type": "integer"
        },
        {
         "name": "RH",
         "rawType": "int64",
         "type": "integer"
        },
        {
         "name": "Ws",
         "rawType": "int64",
         "type": "integer"
        },
        {
         "name": "Rain",
         "rawType": "float64",
         "type": "float"
        },
        {
         "name": "FFMC",
         "rawType": "float64",
         "type": "float"
        },
        {
         "name": "DMC",
         "rawType": "float64",
         "type": "float"
        },
        {
         "name": "DC",
         "rawType": "float64",
         "type": "float"
        },
        {
         "name": "ISI",
         "rawType": "float64",
         "type": "float"
        },
        {
         "name": "BUI",
         "rawType": "float64",
         "type": "float"
        },
        {
         "name": "FWI",
         "rawType": "float64",
         "type": "float"
        },
        {
         "name": "Classes",
         "rawType": "int64",
         "type": "integer"
        },
        {
         "name": "Region",
         "rawType": "int64",
         "type": "integer"
        }
       ],
       "ref": "7e4bf0a9-f26b-4d43-829c-d2c7a48710ca",
       "rows": [
        [
         "0",
         "29",
         "57",
         "18",
         "0.0",
         "65.7",
         "3.4",
         "7.6",
         "1.3",
         "3.4",
         "0.5",
         "0",
         "0"
        ],
        [
         "1",
         "29",
         "61",
         "13",
         "1.3",
         "64.4",
         "4.1",
         "7.6",
         "1.0",
         "3.9",
         "0.4",
         "0",
         "0"
        ],
        [
         "2",
         "26",
         "82",
         "22",
         "13.1",
         "47.1",
         "2.5",
         "7.1",
         "0.3",
         "2.7",
         "0.1",
         "0",
         "0"
        ],
        [
         "3",
         "25",
         "89",
         "13",
         "2.5",
         "28.6",
         "1.3",
         "6.9",
         "0.0",
         "1.7",
         "0.0",
         "0",
         "0"
        ],
        [
         "4",
         "27",
         "77",
         "16",
         "0.0",
         "64.8",
         "3.0",
         "14.2",
         "1.2",
         "3.9",
         "0.5",
         "0",
         "0"
        ]
       ],
       "shape": {
        "columns": 12,
        "rows": 5
       }
      },
      "text/html": [
       "<div>\n",
       "<style scoped>\n",
       "    .dataframe tbody tr th:only-of-type {\n",
       "        vertical-align: middle;\n",
       "    }\n",
       "\n",
       "    .dataframe tbody tr th {\n",
       "        vertical-align: top;\n",
       "    }\n",
       "\n",
       "    .dataframe thead th {\n",
       "        text-align: right;\n",
       "    }\n",
       "</style>\n",
       "<table border=\"1\" class=\"dataframe\">\n",
       "  <thead>\n",
       "    <tr style=\"text-align: right;\">\n",
       "      <th></th>\n",
       "      <th>Temperature</th>\n",
       "      <th>RH</th>\n",
       "      <th>Ws</th>\n",
       "      <th>Rain</th>\n",
       "      <th>FFMC</th>\n",
       "      <th>DMC</th>\n",
       "      <th>DC</th>\n",
       "      <th>ISI</th>\n",
       "      <th>BUI</th>\n",
       "      <th>FWI</th>\n",
       "      <th>Classes</th>\n",
       "      <th>Region</th>\n",
       "    </tr>\n",
       "  </thead>\n",
       "  <tbody>\n",
       "    <tr>\n",
       "      <th>0</th>\n",
       "      <td>29</td>\n",
       "      <td>57</td>\n",
       "      <td>18</td>\n",
       "      <td>0.0</td>\n",
       "      <td>65.7</td>\n",
       "      <td>3.4</td>\n",
       "      <td>7.6</td>\n",
       "      <td>1.3</td>\n",
       "      <td>3.4</td>\n",
       "      <td>0.5</td>\n",
       "      <td>0</td>\n",
       "      <td>0</td>\n",
       "    </tr>\n",
       "    <tr>\n",
       "      <th>1</th>\n",
       "      <td>29</td>\n",
       "      <td>61</td>\n",
       "      <td>13</td>\n",
       "      <td>1.3</td>\n",
       "      <td>64.4</td>\n",
       "      <td>4.1</td>\n",
       "      <td>7.6</td>\n",
       "      <td>1.0</td>\n",
       "      <td>3.9</td>\n",
       "      <td>0.4</td>\n",
       "      <td>0</td>\n",
       "      <td>0</td>\n",
       "    </tr>\n",
       "    <tr>\n",
       "      <th>2</th>\n",
       "      <td>26</td>\n",
       "      <td>82</td>\n",
       "      <td>22</td>\n",
       "      <td>13.1</td>\n",
       "      <td>47.1</td>\n",
       "      <td>2.5</td>\n",
       "      <td>7.1</td>\n",
       "      <td>0.3</td>\n",
       "      <td>2.7</td>\n",
       "      <td>0.1</td>\n",
       "      <td>0</td>\n",
       "      <td>0</td>\n",
       "    </tr>\n",
       "    <tr>\n",
       "      <th>3</th>\n",
       "      <td>25</td>\n",
       "      <td>89</td>\n",
       "      <td>13</td>\n",
       "      <td>2.5</td>\n",
       "      <td>28.6</td>\n",
       "      <td>1.3</td>\n",
       "      <td>6.9</td>\n",
       "      <td>0.0</td>\n",
       "      <td>1.7</td>\n",
       "      <td>0.0</td>\n",
       "      <td>0</td>\n",
       "      <td>0</td>\n",
       "    </tr>\n",
       "    <tr>\n",
       "      <th>4</th>\n",
       "      <td>27</td>\n",
       "      <td>77</td>\n",
       "      <td>16</td>\n",
       "      <td>0.0</td>\n",
       "      <td>64.8</td>\n",
       "      <td>3.0</td>\n",
       "      <td>14.2</td>\n",
       "      <td>1.2</td>\n",
       "      <td>3.9</td>\n",
       "      <td>0.5</td>\n",
       "      <td>0</td>\n",
       "      <td>0</td>\n",
       "    </tr>\n",
       "  </tbody>\n",
       "</table>\n",
       "</div>"
      ],
      "text/plain": [
       "   Temperature  RH  Ws  Rain  FFMC  DMC    DC  ISI  BUI  FWI  Classes  Region\n",
       "0           29  57  18   0.0  65.7  3.4   7.6  1.3  3.4  0.5        0       0\n",
       "1           29  61  13   1.3  64.4  4.1   7.6  1.0  3.9  0.4        0       0\n",
       "2           26  82  22  13.1  47.1  2.5   7.1  0.3  2.7  0.1        0       0\n",
       "3           25  89  13   2.5  28.6  1.3   6.9  0.0  1.7  0.0        0       0\n",
       "4           27  77  16   0.0  64.8  3.0  14.2  1.2  3.9  0.5        0       0"
      ]
     },
     "execution_count": 543,
     "metadata": {},
     "output_type": "execute_result"
    }
   ],
   "source": [
    "df_copy.head()"
   ]
  },
  {
   "cell_type": "code",
   "execution_count": 544,
   "id": "13fa3114",
   "metadata": {},
   "outputs": [
    {
     "data": {
      "application/vnd.microsoft.datawrangler.viewer.v0+json": {
       "columns": [
        {
         "name": "Classes",
         "rawType": "int64",
         "type": "integer"
        },
        {
         "name": "count",
         "rawType": "int64",
         "type": "integer"
        }
       ],
       "ref": "bc91a736-7d0c-4437-a30a-841695df209a",
       "rows": [
        [
         "1",
         "137"
        ],
        [
         "0",
         "106"
        ]
       ],
       "shape": {
        "columns": 1,
        "rows": 2
       }
      },
      "text/plain": [
       "Classes\n",
       "1    137\n",
       "0    106\n",
       "Name: count, dtype: int64"
      ]
     },
     "execution_count": 544,
     "metadata": {},
     "output_type": "execute_result"
    }
   ],
   "source": [
    "df_copy['Classes'].value_counts()"
   ]
  },
  {
   "cell_type": "code",
   "execution_count": 545,
   "id": "ece14173",
   "metadata": {},
   "outputs": [
    {
     "name": "stdout",
     "output_type": "stream",
     "text": [
      "<class 'pandas.core.frame.DataFrame'>\n",
      "RangeIndex: 243 entries, 0 to 242\n",
      "Data columns (total 12 columns):\n",
      " #   Column       Non-Null Count  Dtype  \n",
      "---  ------       --------------  -----  \n",
      " 0   Temperature  243 non-null    int64  \n",
      " 1   RH           243 non-null    int64  \n",
      " 2   Ws           243 non-null    int64  \n",
      " 3   Rain         243 non-null    float64\n",
      " 4   FFMC         243 non-null    float64\n",
      " 5   DMC          243 non-null    float64\n",
      " 6   DC           243 non-null    float64\n",
      " 7   ISI          243 non-null    float64\n",
      " 8   BUI          243 non-null    float64\n",
      " 9   FWI          243 non-null    float64\n",
      " 10  Classes      243 non-null    int64  \n",
      " 11  Region       243 non-null    int64  \n",
      "dtypes: float64(7), int64(5)\n",
      "memory usage: 22.9 KB\n"
     ]
    }
   ],
   "source": [
    "df_copy.info()"
   ]
  },
  {
   "cell_type": "code",
   "execution_count": 546,
   "id": "39c32b2b",
   "metadata": {},
   "outputs": [],
   "source": [
    "df_copy['Classes'] = df_copy['Classes'].astype(int)"
   ]
  },
  {
   "cell_type": "code",
   "execution_count": 547,
   "id": "9ec75b96",
   "metadata": {},
   "outputs": [
    {
     "data": {
      "image/png": "[encoded data removed]",
      "text/plain": [
       "<Figure size 2000x1500 with 12 Axes>"
      ]
     },
     "metadata": {},
     "output_type": "display_data"
    }
   ],
   "source": [
    "## Plot Density plot for all features\n",
    "# plt.style.use('seaborn')\n",
    "df_copy.hist(bins=50, figsize=(20, 15))\n",
    "plt.show()"
   ]
  },
  {
   "cell_type": "code",
   "execution_count": 548,
   "id": "642f5432",
   "metadata": {},
   "outputs": [],
   "source": [
    "## Percentage for pie chart\n",
    "percentage = df_copy['Classes'].value_counts(normalize=True)*100"
   ]
  },
  {
   "cell_type": "code",
   "execution_count": 549,
   "id": "ec470698",
   "metadata": {},
   "outputs": [
    {
     "data": {
      "image/png": "[encoded data removed]",
      "text/plain": [
       "<Figure size 1200x700 with 1 Axes>"
      ]
     },
     "metadata": {},
     "output_type": "display_data"
    }
   ],
   "source": [
    "## plotting pie charts\n",
    "\n",
    "classlabels = [\"Fire\", \"Not Fire\"]\n",
    "plt.figure(figsize=(12, 7))\n",
    "plt.pie(percentage, labels=classlabels, autopct=\"%1.1f%%\")\n",
    "plt.title(\"Pie Chart of Classes\")\n",
    "plt.show()"
   ]
  },
  {
   "cell_type": "code",
   "execution_count": 550,
   "id": "1e1e7cf0",
   "metadata": {},
   "outputs": [
    {
     "data": {
      "application/vnd.microsoft.datawrangler.viewer.v0+json": {
       "columns": [
        {
         "name": "index",
         "rawType": "object",
         "type": "string"
        },
        {
         "name": "Temperature",
         "rawType": "float64",
         "type": "float"
        },
        {
         "name": "RH",
         "rawType": "float64",
         "type": "float"
        },
        {
         "name": "Ws",
         "rawType": "float64",
         "type": "float"
        },
        {
         "name": "Rain",
         "rawType": "float64",
         "type": "float"
        },
        {
         "name": "FFMC",
         "rawType": "float64",
         "type": "float"
        },
        {
         "name": "DMC",
         "rawType": "float64",
         "type": "float"
        },
        {
         "name": "DC",
         "rawType": "float64",
         "type": "float"
        },
        {
         "name": "ISI",
         "rawType": "float64",
         "type": "float"
        },
        {
         "name": "BUI",
         "rawType": "float64",
         "type": "float"
        },
        {
         "name": "FWI",
         "rawType": "float64",
         "type": "float"
        },
        {
         "name": "Classes",
         "rawType": "float64",
         "type": "float"
        },
        {
         "name": "Region",
         "rawType": "float64",
         "type": "float"
        }
       ],
       "ref": "9e8fe1b6-515c-43c9-a3d1-f3a0bff41104",
       "rows": [
        [
         "Temperature",
         "1.0",
         "-0.651400338709241",
         "-0.28450988967933727",
         "-0.3264919235683732",
         "0.6765681454978704",
         "0.48568692303508715",
         "0.37628353240755924",
         "0.6038705585736153",
         "0.45978947326070885",
         "0.566669878116237",
         "0.5160154869282907",
         "0.2695554562297727"
        ],
        [
         "RH",
         "-0.651400338709241",
         "1.0",
         "0.24404838221746894",
         "0.22235607658772708",
         "-0.6448734645051494",
         "-0.4085191879924509",
         "-0.22694111992427132",
         "-0.6866670434377355",
         "-0.35384054752884353",
         "-0.5809567466893124",
         "-0.4321607413557423",
         "-0.40268162228962856"
        ],
        [
         "Ws",
         "-0.28450988967933727",
         "0.24404838221746894",
         "1.0",
         "0.1715061806648719",
         "-0.1665482727845833",
         "-0.000720973738025232",
         "0.07913451433557911",
         "0.008531689100962293",
         "0.03143841179892358",
         "0.032367772661688554",
         "-0.06996363288941113",
         "-0.18115951556420248"
        ],
        [
         "Rain",
         "-0.3264919235683732",
         "0.22235607658772708",
         "0.1715061806648719",
         "1.0",
         "-0.5439061882897656",
         "-0.2887729259992135",
         "-0.2980230808068902",
         "-0.3474839290417852",
         "-0.2998515237349081",
         "-0.32442155933127687",
         "-0.379097165202483",
         "-0.04001263339930102"
        ],
        [
         "FFMC",
         "0.6765681454978704",
         "-0.6448734645051494",
         "-0.1665482727845833",
         "-0.5439061882897656",
         "1.0",
         "0.6036076409929568",
         "0.5073966593761513",
         "0.7400068281110919",
         "0.5920110145331524",
         "0.6911319706859315",
         "0.7694922970073382",
         "0.22224071639492568"
        ],
        [
         "DMC",
         "0.48568692303508715",
         "-0.4085191879924509",
         "-0.000720973738025232",
         "-0.2887729259992135",
         "0.6036076409929568",
         "1.0",
         "0.8759246606759621",
         "0.6804543263967571",
         "0.9822484890812933",
         "0.8758641588191531",
         "0.5856577689867187",
         "0.1920887904198946"
        ],
        [
         "DC",
         "0.37628353240755924",
         "-0.22694111992427132",
         "0.07913451433557911",
         "-0.2980230808068902",
         "0.5073966593761513",
         "0.8759246606759621",
         "1.0",
         "0.5086432469578961",
         "0.9419884631009655",
         "0.739520555705265",
         "0.5111233336622586",
         "-0.0787339653689369"
        ],
        [
         "ISI",
         "0.6038705585736153",
         "-0.6866670434377355",
         "0.008531689100962293",
         "-0.3474839290417852",
         "0.7400068281110919",
         "0.6804543263967571",
         "0.5086432469578961",
         "1.0",
         "0.6440925977221628",
         "0.9228949343157854",
         "0.7351973881454746",
         "0.2631970884660138"
        ],
        [
         "BUI",
         "0.45978947326070885",
         "-0.35384054752884353",
         "0.03143841179892358",
         "-0.2998515237349081",
         "0.5920110145331524",
         "0.9822484890812933",
         "0.9419884631009655",
         "0.6440925977221628",
         "1.0",
         "0.857973095896426",
         "0.5866394889697074",
         "0.08940833151470468"
        ],
        [
         "FWI",
         "0.566669878116237",
         "-0.5809567466893124",
         "0.032367772661688554",
         "-0.32442155933127687",
         "0.6911319706859315",
         "0.8758641588191531",
         "0.739520555705265",
         "0.9228949343157854",
         "0.857973095896426",
         "1.0",
         "0.7192161486674157",
         "0.1971023292895681"
        ],
        [
         "Classes",
         "0.5160154869282907",
         "-0.4321607413557423",
         "-0.06996363288941113",
         "-0.379097165202483",
         "0.7694922970073382",
         "0.5856577689867187",
         "0.5111233336622586",
         "0.7351973881454746",
         "0.5866394889697074",
         "0.7192161486674157",
         "1.0",
         "0.16234666254989277"
        ],
        [
         "Region",
         "0.2695554562297727",
         "-0.40268162228962856",
         "-0.18115951556420248",
         "-0.04001263339930102",
         "0.22224071639492568",
         "0.1920887904198946",
         "-0.0787339653689369",
         "0.2631970884660138",
         "0.08940833151470468",
         "0.1971023292895681",
         "0.16234666254989277",
         "1.0"
        ]
       ],
       "shape": {
        "columns": 12,
        "rows": 12
       }
      },
      "text/html": [
       "<div>\n",
       "<style scoped>\n",
       "    .dataframe tbody tr th:only-of-type {\n",
       "        vertical-align: middle;\n",
       "    }\n",
       "\n",
       "    .dataframe tbody tr th {\n",
       "        vertical-align: top;\n",
       "    }\n",
       "\n",
       "    .dataframe thead th {\n",
       "        text-align: right;\n",
       "    }\n",
       "</style>\n",
       "<table border=\"1\" class=\"dataframe\">\n",
       "  <thead>\n",
       "    <tr style=\"text-align: right;\">\n",
       "      <th></th>\n",
       "      <th>Temperature</th>\n",
       "      <th>RH</th>\n",
       "      <th>Ws</th>\n",
       "      <th>Rain</th>\n",
       "      <th>FFMC</th>\n",
       "      <th>DMC</th>\n",
       "      <th>DC</th>\n",
       "      <th>ISI</th>\n",
       "      <th>BUI</th>\n",
       "      <th>FWI</th>\n",
       "      <th>Classes</th>\n",
       "      <th>Region</th>\n",
       "    </tr>\n",
       "  </thead>\n",
       "  <tbody>\n",
       "    <tr>\n",
       "      <th>Temperature</th>\n",
       "      <td>1.000000</td>\n",
       "      <td>-0.651400</td>\n",
       "      <td>-0.284510</td>\n",
       "      <td>-0.326492</td>\n",
       "      <td>0.676568</td>\n",
       "      <td>0.485687</td>\n",
       "      <td>0.376284</td>\n",
       "      <td>0.603871</td>\n",
       "      <td>0.459789</td>\n",
       "      <td>0.566670</td>\n",
       "      <td>0.516015</td>\n",
       "      <td>0.269555</td>\n",
       "    </tr>\n",
       "    <tr>\n",
       "      <th>RH</th>\n",
       "      <td>-0.651400</td>\n",
       "      <td>1.000000</td>\n",
       "      <td>0.244048</td>\n",
       "      <td>0.222356</td>\n",
       "      <td>-0.644873</td>\n",
       "      <td>-0.408519</td>\n",
       "      <td>-0.226941</td>\n",
       "      <td>-0.686667</td>\n",
       "      <td>-0.353841</td>\n",
       "      <td>-0.580957</td>\n",
       "      <td>-0.432161</td>\n",
       "      <td>-0.402682</td>\n",
       "    </tr>\n",
       "    <tr>\n",
       "      <th>Ws</th>\n",
       "      <td>-0.284510</td>\n",
       "      <td>0.244048</td>\n",
       "      <td>1.000000</td>\n",
       "      <td>0.171506</td>\n",
       "      <td>-0.166548</td>\n",
       "      <td>-0.000721</td>\n",
       "      <td>0.079135</td>\n",
       "      <td>0.008532</td>\n",
       "      <td>0.031438</td>\n",
       "      <td>0.032368</td>\n",
       "      <td>-0.069964</td>\n",
       "      <td>-0.181160</td>\n",
       "    </tr>\n",
       "    <tr>\n",
       "      <th>Rain</th>\n",
       "      <td>-0.326492</td>\n",
       "      <td>0.222356</td>\n",
       "      <td>0.171506</td>\n",
       "      <td>1.000000</td>\n",
       "      <td>-0.543906</td>\n",
       "      <td>-0.288773</td>\n",
       "      <td>-0.298023</td>\n",
       "      <td>-0.347484</td>\n",
       "      <td>-0.299852</td>\n",
       "      <td>-0.324422</td>\n",
       "      <td>-0.379097</td>\n",
       "      <td>-0.040013</td>\n",
       "    </tr>\n",
       "    <tr>\n",
       "      <th>FFMC</th>\n",
       "      <td>0.676568</td>\n",
       "      <td>-0.644873</td>\n",
       "      <td>-0.166548</td>\n",
       "      <td>-0.543906</td>\n",
       "      <td>1.000000</td>\n",
       "      <td>0.603608</td>\n",
       "      <td>0.507397</td>\n",
       "      <td>0.740007</td>\n",
       "      <td>0.592011</td>\n",
       "      <td>0.691132</td>\n",
       "      <td>0.769492</td>\n",
       "      <td>0.222241</td>\n",
       "    </tr>\n",
       "    <tr>\n",
       "      <th>DMC</th>\n",
       "      <td>0.485687</td>\n",
       "      <td>-0.408519</td>\n",
       "      <td>-0.000721</td>\n",
       "      <td>-0.288773</td>\n",
       "      <td>0.603608</td>\n",
       "      <td>1.000000</td>\n",
       "      <td>0.875925</td>\n",
       "      <td>0.680454</td>\n",
       "      <td>0.982248</td>\n",
       "      <td>0.875864</td>\n",
       "      <td>0.585658</td>\n",
       "      <td>0.192089</td>\n",
       "    </tr>\n",
       "    <tr>\n",
       "      <th>DC</th>\n",
       "      <td>0.376284</td>\n",
       "      <td>-0.226941</td>\n",
       "      <td>0.079135</td>\n",
       "      <td>-0.298023</td>\n",
       "      <td>0.507397</td>\n",
       "      <td>0.875925</td>\n",
       "      <td>1.000000</td>\n",
       "      <td>0.508643</td>\n",
       "      <td>0.941988</td>\n",
       "      <td>0.739521</td>\n",
       "      <td>0.511123</td>\n",
       "      <td>-0.078734</td>\n",
       "    </tr>\n",
       "    <tr>\n",
       "      <th>ISI</th>\n",
       "      <td>0.603871</td>\n",
       "      <td>-0.686667</td>\n",
       "      <td>0.008532</td>\n",
       "      <td>-0.347484</td>\n",
       "      <td>0.740007</td>\n",
       "      <td>0.680454</td>\n",
       "      <td>0.508643</td>\n",
       "      <td>1.000000</td>\n",
       "      <td>0.644093</td>\n",
       "      <td>0.922895</td>\n",
       "      <td>0.735197</td>\n",
       "      <td>0.263197</td>\n",
       "    </tr>\n",
       "    <tr>\n",
       "      <th>BUI</th>\n",
       "      <td>0.459789</td>\n",
       "      <td>-0.353841</td>\n",
       "      <td>0.031438</td>\n",
       "      <td>-0.299852</td>\n",
       "      <td>0.592011</td>\n",
       "      <td>0.982248</td>\n",
       "      <td>0.941988</td>\n",
       "      <td>0.644093</td>\n",
       "      <td>1.000000</td>\n",
       "      <td>0.857973</td>\n",
       "      <td>0.586639</td>\n",
       "      <td>0.089408</td>\n",
       "    </tr>\n",
       "    <tr>\n",
       "      <th>FWI</th>\n",
       "      <td>0.566670</td>\n",
       "      <td>-0.580957</td>\n",
       "      <td>0.032368</td>\n",
       "      <td>-0.324422</td>\n",
       "      <td>0.691132</td>\n",
       "      <td>0.875864</td>\n",
       "      <td>0.739521</td>\n",
       "      <td>0.922895</td>\n",
       "      <td>0.857973</td>\n",
       "      <td>1.000000</td>\n",
       "      <td>0.719216</td>\n",
       "      <td>0.197102</td>\n",
       "    </tr>\n",
       "    <tr>\n",
       "      <th>Classes</th>\n",
       "      <td>0.516015</td>\n",
       "      <td>-0.432161</td>\n",
       "      <td>-0.069964</td>\n",
       "      <td>-0.379097</td>\n",
       "      <td>0.769492</td>\n",
       "      <td>0.585658</td>\n",
       "      <td>0.511123</td>\n",
       "      <td>0.735197</td>\n",
       "      <td>0.586639</td>\n",
       "      <td>0.719216</td>\n",
       "      <td>1.000000</td>\n",
       "      <td>0.162347</td>\n",
       "    </tr>\n",
       "    <tr>\n",
       "      <th>Region</th>\n",
       "      <td>0.269555</td>\n",
       "      <td>-0.402682</td>\n",
       "      <td>-0.181160</td>\n",
       "      <td>-0.040013</td>\n",
       "      <td>0.222241</td>\n",
       "      <td>0.192089</td>\n",
       "      <td>-0.078734</td>\n",
       "      <td>0.263197</td>\n",
       "      <td>0.089408</td>\n",
       "      <td>0.197102</td>\n",
       "      <td>0.162347</td>\n",
       "      <td>1.000000</td>\n",
       "    </tr>\n",
       "  </tbody>\n",
       "</table>\n",
       "</div>"
      ],
      "text/plain": [
       "             Temperature        RH        Ws      Rain      FFMC       DMC  \\\n",
       "Temperature     1.000000 -0.651400 -0.284510 -0.326492  0.676568  0.485687   \n",
       "RH             -0.651400  1.000000  0.244048  0.222356 -0.644873 -0.408519   \n",
       "Ws             -0.284510  0.244048  1.000000  0.171506 -0.166548 -0.000721   \n",
       "Rain           -0.326492  0.222356  0.171506  1.000000 -0.543906 -0.288773   \n",
       "FFMC            0.676568 -0.644873 -0.166548 -0.543906  1.000000  0.603608   \n",
       "DMC             0.485687 -0.408519 -0.000721 -0.288773  0.603608  1.000000   \n",
       "DC              0.376284 -0.226941  0.079135 -0.298023  0.507397  0.875925   \n",
       "ISI             0.603871 -0.686667  0.008532 -0.347484  0.740007  0.680454   \n",
       "BUI             0.459789 -0.353841  0.031438 -0.299852  0.592011  0.982248   \n",
       "FWI             0.566670 -0.580957  0.032368 -0.324422  0.691132  0.875864   \n",
       "Classes         0.516015 -0.432161 -0.069964 -0.379097  0.769492  0.585658   \n",
       "Region          0.269555 -0.402682 -0.181160 -0.040013  0.222241  0.192089   \n",
       "\n",
       "                   DC       ISI       BUI       FWI   Classes    Region  \n",
       "Temperature  0.376284  0.603871  0.459789  0.566670  0.516015  0.269555  \n",
       "RH          -0.226941 -0.686667 -0.353841 -0.580957 -0.432161 -0.402682  \n",
       "Ws           0.079135  0.008532  0.031438  0.032368 -0.069964 -0.181160  \n",
       "Rain        -0.298023 -0.347484 -0.299852 -0.324422 -0.379097 -0.040013  \n",
       "FFMC         0.507397  0.740007  0.592011  0.691132  0.769492  0.222241  \n",
       "DMC          0.875925  0.680454  0.982248  0.875864  0.585658  0.192089  \n",
       "DC           1.000000  0.508643  0.941988  0.739521  0.511123 -0.078734  \n",
       "ISI          0.508643  1.000000  0.644093  0.922895  0.735197  0.263197  \n",
       "BUI          0.941988  0.644093  1.000000  0.857973  0.586639  0.089408  \n",
       "FWI          0.739521  0.922895  0.857973  1.000000  0.719216  0.197102  \n",
       "Classes      0.511123  0.735197  0.586639  0.719216  1.000000  0.162347  \n",
       "Region      -0.078734  0.263197  0.089408  0.197102  0.162347  1.000000  "
      ]
     },
     "execution_count": 550,
     "metadata": {},
     "output_type": "execute_result"
    }
   ],
   "source": [
    "## Correlation \n",
    "df_copy.corr()"
   ]
  },
  {
   "cell_type": "code",
   "execution_count": 551,
   "id": "b13c1f69",
   "metadata": {},
   "outputs": [
    {
     "data": {
      "text/plain": [
       "<Axes: >"
      ]
     },
     "execution_count": 551,
     "metadata": {},
     "output_type": "execute_result"
    },
    {
     "data": {
      "image/png": "[encoded data removed]",
      "text/plain": [
       "<Figure size 640x480 with 2 Axes>"
      ]
     },
     "metadata": {},
     "output_type": "display_data"
    }
   ],
   "source": [
    "sns.heatmap(df_copy.corr())"
   ]
  },
  {
   "cell_type": "code",
   "execution_count": 552,
   "id": "7e142de9",
   "metadata": {},
   "outputs": [
    {
     "data": {
      "text/plain": [
       "<Axes: ylabel='FWI'>"
      ]
     },
     "execution_count": 552,
     "metadata": {},
     "output_type": "execute_result"
    },
    {
     "data": {
      "image/png": "[encoded data removed]",
      "text/plain": [
       "<Figure size 640x480 with 1 Axes>"
      ]
     },
     "metadata": {},
     "output_type": "display_data"
    }
   ],
   "source": [
    "## Box plots\n",
    "sns.boxplot(df['FWI'], color='g')"
   ]
  },
  {
   "cell_type": "code",
   "execution_count": 553,
   "id": "10a61fd9",
   "metadata": {},
   "outputs": [],
   "source": [
    "df['Classes'] = np.where( df['Classes'].str.contains('not fire'), 'not fire', 'fire')"
   ]
  },
  {
   "cell_type": "code",
   "execution_count": 554,
   "id": "1cfdb6ab",
   "metadata": {},
   "outputs": [
    {
     "data": {
      "text/plain": [
       "Text(0.5, 1.0, 'Fire analysis of  SidiBel Regions')"
      ]
     },
     "execution_count": 554,
     "metadata": {},
     "output_type": "execute_result"
    },
    {
     "data": {
      "image/png": "[encoded data removed]",
      "text/plain": [
       "<Figure size 1300x600 with 1 Axes>"
      ]
     },
     "metadata": {},
     "output_type": "display_data"
    }
   ],
   "source": [
    "## Monthly fire analysis\n",
    "\n",
    "df_temp = df.loc[df['Region'] == 1]\n",
    "plt.subplots(figsize=(13, 6))\n",
    "sns.set_style('whitegrid')\n",
    "sns.countplot(x='month', hue='Classes', data= df)\n",
    "plt.xlabel('Months', weight='bold')\n",
    "plt.ylabel('Number of fires', weight='bold')\n",
    "plt.title(\"Fire analysis of  SidiBel Regions\", weight='bold')"
   ]
  },
  {
   "cell_type": "code",
   "execution_count": 555,
   "id": "afce0235",
   "metadata": {},
   "outputs": [
    {
     "data": {
      "text/plain": [
       "Text(0.5, 1.0, 'Fire analysis of  Bejaia Regions')"
      ]
     },
     "execution_count": 555,
     "metadata": {},
     "output_type": "execute_result"
    },
    {
     "data": {
      "image/png": "[encoded data removed]",
      "text/plain": [
       "<Figure size 1300x600 with 1 Axes>"
      ]
     },
     "metadata": {},
     "output_type": "display_data"
    }
   ],
   "source": [
    "df_temp = df.loc[df['Region'] == 0]\n",
    "plt.subplots(figsize=(13, 6))\n",
    "sns.set_style('whitegrid')\n",
    "sns.countplot(x='month', hue='Classes', data= df)\n",
    "plt.xlabel('Months', weight='bold')\n",
    "plt.ylabel('Number of fires', weight='bold')\n",
    "plt.title(\"Fire analysis of  Bejaia Regions\", weight='bold')"
   ]
  },
  {
   "cell_type": "markdown",
   "id": "792fb32e",
   "metadata": {},
   "source": [
    "It is observed that August and September had most forest fires for both regions. And from the above plot of months, we can understand few things.\n",
    "    \n",
    "Most of the fires occured in August and very high fires occured in June , July and August\n",
    "\n",
    "Less fire was on september"
   ]
  }
 ],
 "metadata": {
  "kernelspec": {
   "display_name": "Python 3",
   "language": "python",
   "name": "python3"
  },
  "language_info": {
   "codemirror_mode": {
    "name": "ipython",
    "version": 3
   },
   "file_extension": ".py",
   "mimetype": "text/x-python",
   "name": "python",
   "nbconvert_exporter": "python",
   "pygments_lexer": "ipython3",
   "version": "3.10.0"
  }
 },
 "nbformat": 4,
 "nbformat_minor": 5
}
